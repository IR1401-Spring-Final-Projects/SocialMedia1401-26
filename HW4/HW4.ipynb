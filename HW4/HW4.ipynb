{
 "cells": [
  {
   "cell_type": "markdown",
   "id": "f99ac30c",
   "metadata": {
    "colab": {
     "base_uri": "https://localhost:8080/"
    },
    "id": "fa6c9fe2",
    "outputId": "ef75c361-0179-4fd1-d052-4da981cf6bcb"
   },
   "source": [
    "# Colab setup"
   ]
  },
  {
   "cell_type": "code",
   "execution_count": null,
   "id": "81abf1af",
   "metadata": {},
   "outputs": [],
   "source": [
    "# from google.colab import drive\n",
    "# drive.mount(\"/content/gdrive\", force_remount=True)"
   ]
  },
  {
   "cell_type": "code",
   "execution_count": 2,
   "id": "y5jAfMMw9zNc",
   "metadata": {
    "id": "y5jAfMMw9zNc"
   },
   "outputs": [],
   "source": [
    "# from google.colab import files\n",
    "# files.upload()"
   ]
  },
  {
   "cell_type": "code",
   "execution_count": 3,
   "id": "722Z128J99Rb",
   "metadata": {
    "id": "722Z128J99Rb"
   },
   "outputs": [],
   "source": [
    "# !ls -lha kaggle.json"
   ]
  },
  {
   "cell_type": "code",
   "execution_count": 4,
   "id": "KZcpr5Zg-CfV",
   "metadata": {
    "id": "KZcpr5Zg-CfV"
   },
   "outputs": [],
   "source": [
    "# !pip install -q kaggle"
   ]
  },
  {
   "cell_type": "code",
   "execution_count": 5,
   "id": "-nN8_Lkz-Fr6",
   "metadata": {
    "id": "-nN8_Lkz-Fr6"
   },
   "outputs": [],
   "source": [
    "# !mkdir -p ~/.kaggle\n",
    "# !cp kaggle.json ~/.kaggle/"
   ]
  },
  {
   "cell_type": "code",
   "execution_count": 6,
   "id": "G1W3RdUX-IID",
   "metadata": {
    "id": "G1W3RdUX-IID"
   },
   "outputs": [],
   "source": [
    "# !chmod 600 /root/.kaggle/kaggle.json"
   ]
  },
  {
   "cell_type": "code",
   "execution_count": 7,
   "id": "Bd9mPwxS-KZw",
   "metadata": {
    "id": "Bd9mPwxS-KZw"
   },
   "outputs": [],
   "source": [
    "# !pwd"
   ]
  },
  {
   "cell_type": "code",
   "execution_count": 8,
   "id": "g17VuxOx_PVu",
   "metadata": {
    "id": "g17VuxOx_PVu"
   },
   "outputs": [],
   "source": [
    "# !kaggle datasets download -d kazanova/sentiment140"
   ]
  },
  {
   "cell_type": "code",
   "execution_count": 9,
   "id": "sCmoRMd0_ZhX",
   "metadata": {
    "id": "sCmoRMd0_ZhX"
   },
   "outputs": [],
   "source": [
    "# !unzip sentiment140.zip"
   ]
  },
  {
   "cell_type": "code",
   "execution_count": 10,
   "id": "-P0hOpL2AvVU",
   "metadata": {
    "colab": {
     "base_uri": "https://localhost:8080/"
    },
    "id": "-P0hOpL2AvVU",
    "outputId": "8ee9e5b9-37cf-4668-ecd8-46ba476ed7e6"
   },
   "outputs": [
    {
     "name": "stdout",
     "output_type": "stream",
     "text": [
      "gdrive\tsample_data\n"
     ]
    }
   ],
   "source": [
    "!ls"
   ]
  },
  {
   "cell_type": "code",
   "execution_count": 11,
   "id": "NKk1EXCVAyhX",
   "metadata": {
    "id": "NKk1EXCVAyhX"
   },
   "outputs": [],
   "source": [
    "# !mv training.1600000.processed.noemoticon.csv data.csv"
   ]
  },
  {
   "cell_type": "code",
   "execution_count": 12,
   "id": "Q_4THVsKA4jX",
   "metadata": {
    "id": "Q_4THVsKA4jX"
   },
   "outputs": [],
   "source": [
    "# !ls"
   ]
  },
  {
   "cell_type": "code",
   "execution_count": 13,
   "id": "uYUwDDedWkh2",
   "metadata": {
    "id": "uYUwDDedWkh2"
   },
   "outputs": [],
   "source": [
    "!cp /content/gdrive/MyDrive/MIR-HW4/sentiment140.zip /content/"
   ]
  },
  {
   "cell_type": "code",
   "execution_count": 14,
   "id": "98HM8GemXDvJ",
   "metadata": {
    "colab": {
     "base_uri": "https://localhost:8080/"
    },
    "id": "98HM8GemXDvJ",
    "outputId": "7d0560e8-75af-446b-942f-83e265d4da64"
   },
   "outputs": [
    {
     "name": "stdout",
     "output_type": "stream",
     "text": [
      "Archive:  sentiment140.zip\n",
      "  inflating: training.1600000.processed.noemoticon.csv  \n"
     ]
    }
   ],
   "source": [
    "!unzip sentiment140.zip"
   ]
  },
  {
   "cell_type": "code",
   "execution_count": 15,
   "id": "_UYRH3r-XLDr",
   "metadata": {
    "id": "_UYRH3r-XLDr"
   },
   "outputs": [],
   "source": [
    "!mv training.1600000.processed.noemoticon.csv data.csv"
   ]
  },
  {
   "cell_type": "code",
   "execution_count": 16,
   "id": "ICWyk0J5A_bu",
   "metadata": {
    "colab": {
     "base_uri": "https://localhost:8080/"
    },
    "id": "ICWyk0J5A_bu",
    "outputId": "ce2bfbd0-4e06-4568-e80f-925daa42254d"
   },
   "outputs": [
    {
     "name": "stdout",
     "output_type": "stream",
     "text": [
      "Looking in indexes: https://pypi.org/simple, https://us-python.pkg.dev/colab-wheels/public/simple/\n",
      "Collecting unidecode\n",
      "  Downloading Unidecode-1.3.4-py3-none-any.whl (235 kB)\n",
      "\u001b[K     |████████████████████████████████| 235 kB 29.2 MB/s \n",
      "\u001b[?25hInstalling collected packages: unidecode\n",
      "Successfully installed unidecode-1.3.4\n",
      "Looking in indexes: https://pypi.org/simple, https://us-python.pkg.dev/colab-wheels/public/simple/\n",
      "Collecting autocorrect\n",
      "  Downloading autocorrect-2.6.1.tar.gz (622 kB)\n",
      "\u001b[K     |████████████████████████████████| 622 kB 37.3 MB/s \n",
      "\u001b[?25hBuilding wheels for collected packages: autocorrect\n",
      "  Building wheel for autocorrect (setup.py) ... \u001b[?25l\u001b[?25hdone\n",
      "  Created wheel for autocorrect: filename=autocorrect-2.6.1-py3-none-any.whl size=622382 sha256=48ed1372f932bba0cd306ead9ecebad347577e0e1dc0c8e8cc0434c9af7618b2\n",
      "  Stored in directory: /root/.cache/pip/wheels/54/d4/37/8244101ad50b0f7d9bffd93ce58ed7991ee1753b290923934b\n",
      "Successfully built autocorrect\n",
      "Installing collected packages: autocorrect\n",
      "Successfully installed autocorrect-2.6.1\n",
      "Looking in indexes: https://pypi.org/simple, https://us-python.pkg.dev/colab-wheels/public/simple/\n",
      "Collecting transformers\n",
      "  Downloading transformers-4.20.1-py3-none-any.whl (4.4 MB)\n",
      "\u001b[K     |████████████████████████████████| 4.4 MB 30.0 MB/s \n",
      "\u001b[?25hRequirement already satisfied: regex!=2019.12.17 in /usr/local/lib/python3.7/dist-packages (from transformers) (2022.6.2)\n",
      "Requirement already satisfied: tqdm>=4.27 in /usr/local/lib/python3.7/dist-packages (from transformers) (4.64.0)\n",
      "Requirement already satisfied: requests in /usr/local/lib/python3.7/dist-packages (from transformers) (2.23.0)\n",
      "Requirement already satisfied: filelock in /usr/local/lib/python3.7/dist-packages (from transformers) (3.7.1)\n",
      "Requirement already satisfied: numpy>=1.17 in /usr/local/lib/python3.7/dist-packages (from transformers) (1.21.6)\n",
      "Collecting tokenizers!=0.11.3,<0.13,>=0.11.1\n",
      "  Downloading tokenizers-0.12.1-cp37-cp37m-manylinux_2_12_x86_64.manylinux2010_x86_64.whl (6.6 MB)\n",
      "\u001b[K     |████████████████████████████████| 6.6 MB 61.6 MB/s \n",
      "\u001b[?25hCollecting huggingface-hub<1.0,>=0.1.0\n",
      "  Downloading huggingface_hub-0.8.1-py3-none-any.whl (101 kB)\n",
      "\u001b[K     |████████████████████████████████| 101 kB 12.0 MB/s \n",
      "\u001b[?25hRequirement already satisfied: importlib-metadata in /usr/local/lib/python3.7/dist-packages (from transformers) (4.11.4)\n",
      "Collecting pyyaml>=5.1\n",
      "  Downloading PyYAML-6.0-cp37-cp37m-manylinux_2_5_x86_64.manylinux1_x86_64.manylinux_2_12_x86_64.manylinux2010_x86_64.whl (596 kB)\n",
      "\u001b[K     |████████████████████████████████| 596 kB 74.5 MB/s \n",
      "\u001b[?25hRequirement already satisfied: packaging>=20.0 in /usr/local/lib/python3.7/dist-packages (from transformers) (21.3)\n",
      "Requirement already satisfied: typing-extensions>=3.7.4.3 in /usr/local/lib/python3.7/dist-packages (from huggingface-hub<1.0,>=0.1.0->transformers) (4.1.1)\n",
      "Requirement already satisfied: pyparsing!=3.0.5,>=2.0.2 in /usr/local/lib/python3.7/dist-packages (from packaging>=20.0->transformers) (3.0.9)\n",
      "Requirement already satisfied: zipp>=0.5 in /usr/local/lib/python3.7/dist-packages (from importlib-metadata->transformers) (3.8.0)\n",
      "Requirement already satisfied: urllib3!=1.25.0,!=1.25.1,<1.26,>=1.21.1 in /usr/local/lib/python3.7/dist-packages (from requests->transformers) (1.24.3)\n",
      "Requirement already satisfied: idna<3,>=2.5 in /usr/local/lib/python3.7/dist-packages (from requests->transformers) (2.10)\n",
      "Requirement already satisfied: chardet<4,>=3.0.2 in /usr/local/lib/python3.7/dist-packages (from requests->transformers) (3.0.4)\n",
      "Requirement already satisfied: certifi>=2017.4.17 in /usr/local/lib/python3.7/dist-packages (from requests->transformers) (2022.6.15)\n",
      "Installing collected packages: pyyaml, tokenizers, huggingface-hub, transformers\n",
      "  Attempting uninstall: pyyaml\n",
      "    Found existing installation: PyYAML 3.13\n",
      "    Uninstalling PyYAML-3.13:\n",
      "      Successfully uninstalled PyYAML-3.13\n",
      "Successfully installed huggingface-hub-0.8.1 pyyaml-6.0 tokenizers-0.12.1 transformers-4.20.1\n"
     ]
    }
   ],
   "source": [
    "!pip install unidecode\n",
    "!pip install autocorrect\n",
    "!pip install transformers"
   ]
  },
  {
   "cell_type": "markdown",
   "id": "26b20c1a",
   "metadata": {},
   "source": [
    "# Imports"
   ]
  },
  {
   "cell_type": "code",
   "execution_count": 17,
   "id": "RI22tWnD9su_",
   "metadata": {
    "colab": {
     "base_uri": "https://localhost:8080/"
    },
    "id": "RI22tWnD9su_",
    "outputId": "f5a273de-41a3-434d-9d67-25adf7fbca5f"
   },
   "outputs": [
    {
     "name": "stderr",
     "output_type": "stream",
     "text": [
      "[nltk_data] Downloading package punkt to /root/nltk_data...\n",
      "[nltk_data]   Unzipping tokenizers/punkt.zip.\n",
      "[nltk_data] Downloading package wordnet to /root/nltk_data...\n",
      "[nltk_data]   Unzipping corpora/wordnet.zip.\n",
      "[nltk_data] Downloading package omw-1.4 to /root/nltk_data...\n",
      "[nltk_data]   Unzipping corpora/omw-1.4.zip.\n",
      "[nltk_data] Downloading package stopwords to /root/nltk_data...\n",
      "[nltk_data]   Unzipping corpora/stopwords.zip.\n"
     ]
    },
    {
     "data": {
      "text/plain": [
       "device(type='cuda', index=0)"
      ]
     },
     "execution_count": 17,
     "metadata": {},
     "output_type": "execute_result"
    }
   ],
   "source": [
    "import numpy as np\n",
    "import pandas as pd\n",
    "from matplotlib import pyplot as plt\n",
    "import seaborn as sns\n",
    "\n",
    "import unidecode \n",
    "import pandas as pd \n",
    "import re \n",
    "import time \n",
    "import nltk \n",
    "nltk.download('punkt')\n",
    "nltk.download('wordnet')\n",
    "nltk.download('omw-1.4')\n",
    "\n",
    "from nltk.corpus import stopwords\n",
    "nltk.download('stopwords')\n",
    "from nltk.tokenize import word_tokenize \n",
    "from nltk.stem import WordNetLemmatizer\n",
    "from autocorrect import Speller\n",
    "from bs4 import BeautifulSoup\n",
    "from nltk.corpus import stopwords \n",
    "from nltk import word_tokenize\n",
    "import string\n",
    "import json\n",
    "\n",
    "import warnings\n",
    "warnings.filterwarnings('ignore')\n",
    "\n",
    "\n",
    "import transformers\n",
    "from transformers import BertModel, BertConfig, BertTokenizer, AdamW, get_linear_schedule_with_warmup\n",
    "import torch\n",
    "\n",
    "from pylab import rcParams\n",
    "from matplotlib import rc\n",
    "from sklearn.model_selection import train_test_split\n",
    "from sklearn.metrics import confusion_matrix, classification_report\n",
    "from collections import defaultdict\n",
    "from textwrap import wrap\n",
    "\n",
    "from torch import nn, optim\n",
    "from torch.utils.data import Dataset, DataLoader\n",
    "import torch.nn.functional as F\n",
    "\n",
    "%matplotlib inline\n",
    "%config InlineBackend.figure_format='retina'\n",
    "\n",
    "sns.set(style='whitegrid', palette='muted', font_scale=1.2)\n",
    "HAPPY_COLORS_PALETTE = [\"#01BEFE\", \"#FFDD00\", \"#FF7D00\", \"#FF006D\", \"#ADFF02\", \"#8F00FF\"]\n",
    "sns.set_palette(sns.color_palette(HAPPY_COLORS_PALETTE))\n",
    "rcParams['figure.figsize'] = 12, 8\n",
    "\n",
    "from tqdm import tqdm\n",
    "\n",
    "RANDOM_SEED = 76\n",
    "np.random.seed(RANDOM_SEED)\n",
    "torch.manual_seed(RANDOM_SEED)\n",
    "\n",
    "device = torch.device(\"cuda:0\" if torch.cuda.is_available() else \"cpu\")\n",
    "device"
   ]
  },
  {
   "cell_type": "markdown",
   "id": "27fadfd0",
   "metadata": {},
   "source": [
    "# Reading data"
   ]
  },
  {
   "cell_type": "code",
   "execution_count": 18,
   "id": "5584a282",
   "metadata": {
    "id": "5584a282"
   },
   "outputs": [],
   "source": [
    "df = pd.read_csv(\"data.csv\", header=None, encoding=\"latin-1\")"
   ]
  },
  {
   "cell_type": "code",
   "execution_count": 19,
   "id": "c5f8cd69",
   "metadata": {
    "colab": {
     "base_uri": "https://localhost:8080/"
    },
    "id": "c5f8cd69",
    "outputId": "5a22d4e4-82c5-47e3-d1d1-835f6ba579f7"
   },
   "outputs": [
    {
     "data": {
      "text/plain": [
       "(1600000, 6)"
      ]
     },
     "execution_count": 19,
     "metadata": {},
     "output_type": "execute_result"
    }
   ],
   "source": [
    "df.shape"
   ]
  },
  {
   "cell_type": "code",
   "execution_count": 20,
   "id": "d7b3d056",
   "metadata": {
    "colab": {
     "base_uri": "https://localhost:8080/",
     "height": 206
    },
    "id": "d7b3d056",
    "outputId": "d6a01202-2c49-4940-ad9a-75743a783a30"
   },
   "outputs": [
    {
     "data": {
      "text/html": [
       "\n",
       "  <div id=\"df-ff331995-9c36-40c1-80d2-3bb4e5c23ce5\">\n",
       "    <div class=\"colab-df-container\">\n",
       "      <div>\n",
       "<style scoped>\n",
       "    .dataframe tbody tr th:only-of-type {\n",
       "        vertical-align: middle;\n",
       "    }\n",
       "\n",
       "    .dataframe tbody tr th {\n",
       "        vertical-align: top;\n",
       "    }\n",
       "\n",
       "    .dataframe thead th {\n",
       "        text-align: right;\n",
       "    }\n",
       "</style>\n",
       "<table border=\"1\" class=\"dataframe\">\n",
       "  <thead>\n",
       "    <tr style=\"text-align: right;\">\n",
       "      <th></th>\n",
       "      <th>0</th>\n",
       "      <th>1</th>\n",
       "      <th>2</th>\n",
       "      <th>3</th>\n",
       "      <th>4</th>\n",
       "      <th>5</th>\n",
       "    </tr>\n",
       "  </thead>\n",
       "  <tbody>\n",
       "    <tr>\n",
       "      <th>0</th>\n",
       "      <td>0</td>\n",
       "      <td>1467810369</td>\n",
       "      <td>Mon Apr 06 22:19:45 PDT 2009</td>\n",
       "      <td>NO_QUERY</td>\n",
       "      <td>_TheSpecialOne_</td>\n",
       "      <td>@switchfoot http://twitpic.com/2y1zl - Awww, t...</td>\n",
       "    </tr>\n",
       "    <tr>\n",
       "      <th>1</th>\n",
       "      <td>0</td>\n",
       "      <td>1467810672</td>\n",
       "      <td>Mon Apr 06 22:19:49 PDT 2009</td>\n",
       "      <td>NO_QUERY</td>\n",
       "      <td>scotthamilton</td>\n",
       "      <td>is upset that he can't update his Facebook by ...</td>\n",
       "    </tr>\n",
       "    <tr>\n",
       "      <th>2</th>\n",
       "      <td>0</td>\n",
       "      <td>1467810917</td>\n",
       "      <td>Mon Apr 06 22:19:53 PDT 2009</td>\n",
       "      <td>NO_QUERY</td>\n",
       "      <td>mattycus</td>\n",
       "      <td>@Kenichan I dived many times for the ball. Man...</td>\n",
       "    </tr>\n",
       "    <tr>\n",
       "      <th>3</th>\n",
       "      <td>0</td>\n",
       "      <td>1467811184</td>\n",
       "      <td>Mon Apr 06 22:19:57 PDT 2009</td>\n",
       "      <td>NO_QUERY</td>\n",
       "      <td>ElleCTF</td>\n",
       "      <td>my whole body feels itchy and like its on fire</td>\n",
       "    </tr>\n",
       "    <tr>\n",
       "      <th>4</th>\n",
       "      <td>0</td>\n",
       "      <td>1467811193</td>\n",
       "      <td>Mon Apr 06 22:19:57 PDT 2009</td>\n",
       "      <td>NO_QUERY</td>\n",
       "      <td>Karoli</td>\n",
       "      <td>@nationwideclass no, it's not behaving at all....</td>\n",
       "    </tr>\n",
       "  </tbody>\n",
       "</table>\n",
       "</div>\n",
       "      <button class=\"colab-df-convert\" onclick=\"convertToInteractive('df-ff331995-9c36-40c1-80d2-3bb4e5c23ce5')\"\n",
       "              title=\"Convert this dataframe to an interactive table.\"\n",
       "              style=\"display:none;\">\n",
       "        \n",
       "  <svg xmlns=\"http://www.w3.org/2000/svg\" height=\"24px\"viewBox=\"0 0 24 24\"\n",
       "       width=\"24px\">\n",
       "    <path d=\"M0 0h24v24H0V0z\" fill=\"none\"/>\n",
       "    <path d=\"M18.56 5.44l.94 2.06.94-2.06 2.06-.94-2.06-.94-.94-2.06-.94 2.06-2.06.94zm-11 1L8.5 8.5l.94-2.06 2.06-.94-2.06-.94L8.5 2.5l-.94 2.06-2.06.94zm10 10l.94 2.06.94-2.06 2.06-.94-2.06-.94-.94-2.06-.94 2.06-2.06.94z\"/><path d=\"M17.41 7.96l-1.37-1.37c-.4-.4-.92-.59-1.43-.59-.52 0-1.04.2-1.43.59L10.3 9.45l-7.72 7.72c-.78.78-.78 2.05 0 2.83L4 21.41c.39.39.9.59 1.41.59.51 0 1.02-.2 1.41-.59l7.78-7.78 2.81-2.81c.8-.78.8-2.07 0-2.86zM5.41 20L4 18.59l7.72-7.72 1.47 1.35L5.41 20z\"/>\n",
       "  </svg>\n",
       "      </button>\n",
       "      \n",
       "  <style>\n",
       "    .colab-df-container {\n",
       "      display:flex;\n",
       "      flex-wrap:wrap;\n",
       "      gap: 12px;\n",
       "    }\n",
       "\n",
       "    .colab-df-convert {\n",
       "      background-color: #E8F0FE;\n",
       "      border: none;\n",
       "      border-radius: 50%;\n",
       "      cursor: pointer;\n",
       "      display: none;\n",
       "      fill: #1967D2;\n",
       "      height: 32px;\n",
       "      padding: 0 0 0 0;\n",
       "      width: 32px;\n",
       "    }\n",
       "\n",
       "    .colab-df-convert:hover {\n",
       "      background-color: #E2EBFA;\n",
       "      box-shadow: 0px 1px 2px rgba(60, 64, 67, 0.3), 0px 1px 3px 1px rgba(60, 64, 67, 0.15);\n",
       "      fill: #174EA6;\n",
       "    }\n",
       "\n",
       "    [theme=dark] .colab-df-convert {\n",
       "      background-color: #3B4455;\n",
       "      fill: #D2E3FC;\n",
       "    }\n",
       "\n",
       "    [theme=dark] .colab-df-convert:hover {\n",
       "      background-color: #434B5C;\n",
       "      box-shadow: 0px 1px 3px 1px rgba(0, 0, 0, 0.15);\n",
       "      filter: drop-shadow(0px 1px 2px rgba(0, 0, 0, 0.3));\n",
       "      fill: #FFFFFF;\n",
       "    }\n",
       "  </style>\n",
       "\n",
       "      <script>\n",
       "        const buttonEl =\n",
       "          document.querySelector('#df-ff331995-9c36-40c1-80d2-3bb4e5c23ce5 button.colab-df-convert');\n",
       "        buttonEl.style.display =\n",
       "          google.colab.kernel.accessAllowed ? 'block' : 'none';\n",
       "\n",
       "        async function convertToInteractive(key) {\n",
       "          const element = document.querySelector('#df-ff331995-9c36-40c1-80d2-3bb4e5c23ce5');\n",
       "          const dataTable =\n",
       "            await google.colab.kernel.invokeFunction('convertToInteractive',\n",
       "                                                     [key], {});\n",
       "          if (!dataTable) return;\n",
       "\n",
       "          const docLinkHtml = 'Like what you see? Visit the ' +\n",
       "            '<a target=\"_blank\" href=https://colab.research.google.com/notebooks/data_table.ipynb>data table notebook</a>'\n",
       "            + ' to learn more about interactive tables.';\n",
       "          element.innerHTML = '';\n",
       "          dataTable['output_type'] = 'display_data';\n",
       "          await google.colab.output.renderOutput(dataTable, element);\n",
       "          const docLink = document.createElement('div');\n",
       "          docLink.innerHTML = docLinkHtml;\n",
       "          element.appendChild(docLink);\n",
       "        }\n",
       "      </script>\n",
       "    </div>\n",
       "  </div>\n",
       "  "
      ],
      "text/plain": [
       "   0           1                             2         3                4  \\\n",
       "0  0  1467810369  Mon Apr 06 22:19:45 PDT 2009  NO_QUERY  _TheSpecialOne_   \n",
       "1  0  1467810672  Mon Apr 06 22:19:49 PDT 2009  NO_QUERY    scotthamilton   \n",
       "2  0  1467810917  Mon Apr 06 22:19:53 PDT 2009  NO_QUERY         mattycus   \n",
       "3  0  1467811184  Mon Apr 06 22:19:57 PDT 2009  NO_QUERY          ElleCTF   \n",
       "4  0  1467811193  Mon Apr 06 22:19:57 PDT 2009  NO_QUERY           Karoli   \n",
       "\n",
       "                                                   5  \n",
       "0  @switchfoot http://twitpic.com/2y1zl - Awww, t...  \n",
       "1  is upset that he can't update his Facebook by ...  \n",
       "2  @Kenichan I dived many times for the ball. Man...  \n",
       "3    my whole body feels itchy and like its on fire   \n",
       "4  @nationwideclass no, it's not behaving at all....  "
      ]
     },
     "execution_count": 20,
     "metadata": {},
     "output_type": "execute_result"
    }
   ],
   "source": [
    "df.head()"
   ]
  },
  {
   "cell_type": "code",
   "execution_count": 21,
   "id": "fec40f9b",
   "metadata": {
    "id": "fec40f9b"
   },
   "outputs": [],
   "source": [
    "df.columns = ['target', 'tweet_id', 'datetime', 'query', 'id', 'tweet']"
   ]
  },
  {
   "cell_type": "code",
   "execution_count": 22,
   "id": "703e3f7a",
   "metadata": {
    "colab": {
     "base_uri": "https://localhost:8080/",
     "height": 206
    },
    "id": "703e3f7a",
    "outputId": "4a466179-752a-41ea-f77d-7cfd1949f57e"
   },
   "outputs": [
    {
     "data": {
      "text/html": [
       "\n",
       "  <div id=\"df-2a7fb3e9-b024-41af-a318-8d458e5d8dd2\">\n",
       "    <div class=\"colab-df-container\">\n",
       "      <div>\n",
       "<style scoped>\n",
       "    .dataframe tbody tr th:only-of-type {\n",
       "        vertical-align: middle;\n",
       "    }\n",
       "\n",
       "    .dataframe tbody tr th {\n",
       "        vertical-align: top;\n",
       "    }\n",
       "\n",
       "    .dataframe thead th {\n",
       "        text-align: right;\n",
       "    }\n",
       "</style>\n",
       "<table border=\"1\" class=\"dataframe\">\n",
       "  <thead>\n",
       "    <tr style=\"text-align: right;\">\n",
       "      <th></th>\n",
       "      <th>target</th>\n",
       "      <th>tweet_id</th>\n",
       "      <th>datetime</th>\n",
       "      <th>query</th>\n",
       "      <th>id</th>\n",
       "      <th>tweet</th>\n",
       "    </tr>\n",
       "  </thead>\n",
       "  <tbody>\n",
       "    <tr>\n",
       "      <th>0</th>\n",
       "      <td>0</td>\n",
       "      <td>1467810369</td>\n",
       "      <td>Mon Apr 06 22:19:45 PDT 2009</td>\n",
       "      <td>NO_QUERY</td>\n",
       "      <td>_TheSpecialOne_</td>\n",
       "      <td>@switchfoot http://twitpic.com/2y1zl - Awww, t...</td>\n",
       "    </tr>\n",
       "    <tr>\n",
       "      <th>1</th>\n",
       "      <td>0</td>\n",
       "      <td>1467810672</td>\n",
       "      <td>Mon Apr 06 22:19:49 PDT 2009</td>\n",
       "      <td>NO_QUERY</td>\n",
       "      <td>scotthamilton</td>\n",
       "      <td>is upset that he can't update his Facebook by ...</td>\n",
       "    </tr>\n",
       "    <tr>\n",
       "      <th>2</th>\n",
       "      <td>0</td>\n",
       "      <td>1467810917</td>\n",
       "      <td>Mon Apr 06 22:19:53 PDT 2009</td>\n",
       "      <td>NO_QUERY</td>\n",
       "      <td>mattycus</td>\n",
       "      <td>@Kenichan I dived many times for the ball. Man...</td>\n",
       "    </tr>\n",
       "    <tr>\n",
       "      <th>3</th>\n",
       "      <td>0</td>\n",
       "      <td>1467811184</td>\n",
       "      <td>Mon Apr 06 22:19:57 PDT 2009</td>\n",
       "      <td>NO_QUERY</td>\n",
       "      <td>ElleCTF</td>\n",
       "      <td>my whole body feels itchy and like its on fire</td>\n",
       "    </tr>\n",
       "    <tr>\n",
       "      <th>4</th>\n",
       "      <td>0</td>\n",
       "      <td>1467811193</td>\n",
       "      <td>Mon Apr 06 22:19:57 PDT 2009</td>\n",
       "      <td>NO_QUERY</td>\n",
       "      <td>Karoli</td>\n",
       "      <td>@nationwideclass no, it's not behaving at all....</td>\n",
       "    </tr>\n",
       "  </tbody>\n",
       "</table>\n",
       "</div>\n",
       "      <button class=\"colab-df-convert\" onclick=\"convertToInteractive('df-2a7fb3e9-b024-41af-a318-8d458e5d8dd2')\"\n",
       "              title=\"Convert this dataframe to an interactive table.\"\n",
       "              style=\"display:none;\">\n",
       "        \n",
       "  <svg xmlns=\"http://www.w3.org/2000/svg\" height=\"24px\"viewBox=\"0 0 24 24\"\n",
       "       width=\"24px\">\n",
       "    <path d=\"M0 0h24v24H0V0z\" fill=\"none\"/>\n",
       "    <path d=\"M18.56 5.44l.94 2.06.94-2.06 2.06-.94-2.06-.94-.94-2.06-.94 2.06-2.06.94zm-11 1L8.5 8.5l.94-2.06 2.06-.94-2.06-.94L8.5 2.5l-.94 2.06-2.06.94zm10 10l.94 2.06.94-2.06 2.06-.94-2.06-.94-.94-2.06-.94 2.06-2.06.94z\"/><path d=\"M17.41 7.96l-1.37-1.37c-.4-.4-.92-.59-1.43-.59-.52 0-1.04.2-1.43.59L10.3 9.45l-7.72 7.72c-.78.78-.78 2.05 0 2.83L4 21.41c.39.39.9.59 1.41.59.51 0 1.02-.2 1.41-.59l7.78-7.78 2.81-2.81c.8-.78.8-2.07 0-2.86zM5.41 20L4 18.59l7.72-7.72 1.47 1.35L5.41 20z\"/>\n",
       "  </svg>\n",
       "      </button>\n",
       "      \n",
       "  <style>\n",
       "    .colab-df-container {\n",
       "      display:flex;\n",
       "      flex-wrap:wrap;\n",
       "      gap: 12px;\n",
       "    }\n",
       "\n",
       "    .colab-df-convert {\n",
       "      background-color: #E8F0FE;\n",
       "      border: none;\n",
       "      border-radius: 50%;\n",
       "      cursor: pointer;\n",
       "      display: none;\n",
       "      fill: #1967D2;\n",
       "      height: 32px;\n",
       "      padding: 0 0 0 0;\n",
       "      width: 32px;\n",
       "    }\n",
       "\n",
       "    .colab-df-convert:hover {\n",
       "      background-color: #E2EBFA;\n",
       "      box-shadow: 0px 1px 2px rgba(60, 64, 67, 0.3), 0px 1px 3px 1px rgba(60, 64, 67, 0.15);\n",
       "      fill: #174EA6;\n",
       "    }\n",
       "\n",
       "    [theme=dark] .colab-df-convert {\n",
       "      background-color: #3B4455;\n",
       "      fill: #D2E3FC;\n",
       "    }\n",
       "\n",
       "    [theme=dark] .colab-df-convert:hover {\n",
       "      background-color: #434B5C;\n",
       "      box-shadow: 0px 1px 3px 1px rgba(0, 0, 0, 0.15);\n",
       "      filter: drop-shadow(0px 1px 2px rgba(0, 0, 0, 0.3));\n",
       "      fill: #FFFFFF;\n",
       "    }\n",
       "  </style>\n",
       "\n",
       "      <script>\n",
       "        const buttonEl =\n",
       "          document.querySelector('#df-2a7fb3e9-b024-41af-a318-8d458e5d8dd2 button.colab-df-convert');\n",
       "        buttonEl.style.display =\n",
       "          google.colab.kernel.accessAllowed ? 'block' : 'none';\n",
       "\n",
       "        async function convertToInteractive(key) {\n",
       "          const element = document.querySelector('#df-2a7fb3e9-b024-41af-a318-8d458e5d8dd2');\n",
       "          const dataTable =\n",
       "            await google.colab.kernel.invokeFunction('convertToInteractive',\n",
       "                                                     [key], {});\n",
       "          if (!dataTable) return;\n",
       "\n",
       "          const docLinkHtml = 'Like what you see? Visit the ' +\n",
       "            '<a target=\"_blank\" href=https://colab.research.google.com/notebooks/data_table.ipynb>data table notebook</a>'\n",
       "            + ' to learn more about interactive tables.';\n",
       "          element.innerHTML = '';\n",
       "          dataTable['output_type'] = 'display_data';\n",
       "          await google.colab.output.renderOutput(dataTable, element);\n",
       "          const docLink = document.createElement('div');\n",
       "          docLink.innerHTML = docLinkHtml;\n",
       "          element.appendChild(docLink);\n",
       "        }\n",
       "      </script>\n",
       "    </div>\n",
       "  </div>\n",
       "  "
      ],
      "text/plain": [
       "   target    tweet_id                      datetime     query  \\\n",
       "0       0  1467810369  Mon Apr 06 22:19:45 PDT 2009  NO_QUERY   \n",
       "1       0  1467810672  Mon Apr 06 22:19:49 PDT 2009  NO_QUERY   \n",
       "2       0  1467810917  Mon Apr 06 22:19:53 PDT 2009  NO_QUERY   \n",
       "3       0  1467811184  Mon Apr 06 22:19:57 PDT 2009  NO_QUERY   \n",
       "4       0  1467811193  Mon Apr 06 22:19:57 PDT 2009  NO_QUERY   \n",
       "\n",
       "                id                                              tweet  \n",
       "0  _TheSpecialOne_  @switchfoot http://twitpic.com/2y1zl - Awww, t...  \n",
       "1    scotthamilton  is upset that he can't update his Facebook by ...  \n",
       "2         mattycus  @Kenichan I dived many times for the ball. Man...  \n",
       "3          ElleCTF    my whole body feels itchy and like its on fire   \n",
       "4           Karoli  @nationwideclass no, it's not behaving at all....  "
      ]
     },
     "execution_count": 22,
     "metadata": {},
     "output_type": "execute_result"
    }
   ],
   "source": [
    "df.head()"
   ]
  },
  {
   "cell_type": "code",
   "execution_count": 23,
   "id": "821634e6",
   "metadata": {
    "colab": {
     "base_uri": "https://localhost:8080/"
    },
    "id": "821634e6",
    "outputId": "340f6c3c-2255-4c50-b586-a12f949b084f"
   },
   "outputs": [
    {
     "data": {
      "text/plain": [
       "659775"
      ]
     },
     "execution_count": 23,
     "metadata": {},
     "output_type": "execute_result"
    }
   ],
   "source": [
    "len(df.id.unique())"
   ]
  },
  {
   "cell_type": "code",
   "execution_count": 24,
   "id": "843159a6",
   "metadata": {
    "colab": {
     "base_uri": "https://localhost:8080/"
    },
    "id": "843159a6",
    "outputId": "1ee07a00-ebce-42ea-c441-7c3caca5a47f"
   },
   "outputs": [
    {
     "name": "stdout",
     "output_type": "stream",
     "text": [
      "@switchfoot http://twitpic.com/2y1zl - Awww, that's a bummer.  You shoulda got David Carr of Third Day to do it. ;D\n",
      "is upset that he can't update his Facebook by texting it... and might cry as a result  School today also. Blah!\n",
      "@Kenichan I dived many times for the ball. Managed to save 50%  The rest go out of bounds\n",
      "my whole body feels itchy and like its on fire \n",
      "@nationwideclass no, it's not behaving at all. i'm mad. why am i here? because I can't see you all over there. \n",
      "@Kwesidei not the whole crew \n",
      "Need a hug \n",
      "@LOLTrish hey  long time no see! Yes.. Rains a bit ,only a bit  LOL , I'm fine thanks , how's you ?\n",
      "@Tatiana_K nope they didn't have it \n",
      "@twittera que me muera ? \n"
     ]
    }
   ],
   "source": [
    "for t in df.tweet.head(10):\n",
    "    print(t)"
   ]
  },
  {
   "cell_type": "code",
   "execution_count": 25,
   "id": "717a54d8",
   "metadata": {
    "id": "717a54d8"
   },
   "outputs": [],
   "source": [
    "tweets_list = list(df.tweet)\n",
    "tweet_len = list(map(len, tweets_list))\n",
    "df[\"tweet_len\"] = tweet_len"
   ]
  },
  {
   "cell_type": "code",
   "execution_count": 26,
   "id": "73339b79",
   "metadata": {
    "colab": {
     "base_uri": "https://localhost:8080/",
     "height": 206
    },
    "id": "73339b79",
    "outputId": "ffba4f2b-0381-4628-ae6a-ae8217c0305d"
   },
   "outputs": [
    {
     "data": {
      "text/html": [
       "\n",
       "  <div id=\"df-2668b6c0-2363-490a-840c-e6e0d71f7fa2\">\n",
       "    <div class=\"colab-df-container\">\n",
       "      <div>\n",
       "<style scoped>\n",
       "    .dataframe tbody tr th:only-of-type {\n",
       "        vertical-align: middle;\n",
       "    }\n",
       "\n",
       "    .dataframe tbody tr th {\n",
       "        vertical-align: top;\n",
       "    }\n",
       "\n",
       "    .dataframe thead th {\n",
       "        text-align: right;\n",
       "    }\n",
       "</style>\n",
       "<table border=\"1\" class=\"dataframe\">\n",
       "  <thead>\n",
       "    <tr style=\"text-align: right;\">\n",
       "      <th></th>\n",
       "      <th>target</th>\n",
       "      <th>tweet_id</th>\n",
       "      <th>datetime</th>\n",
       "      <th>query</th>\n",
       "      <th>id</th>\n",
       "      <th>tweet</th>\n",
       "      <th>tweet_len</th>\n",
       "    </tr>\n",
       "  </thead>\n",
       "  <tbody>\n",
       "    <tr>\n",
       "      <th>0</th>\n",
       "      <td>0</td>\n",
       "      <td>1467810369</td>\n",
       "      <td>Mon Apr 06 22:19:45 PDT 2009</td>\n",
       "      <td>NO_QUERY</td>\n",
       "      <td>_TheSpecialOne_</td>\n",
       "      <td>@switchfoot http://twitpic.com/2y1zl - Awww, t...</td>\n",
       "      <td>115</td>\n",
       "    </tr>\n",
       "    <tr>\n",
       "      <th>1</th>\n",
       "      <td>0</td>\n",
       "      <td>1467810672</td>\n",
       "      <td>Mon Apr 06 22:19:49 PDT 2009</td>\n",
       "      <td>NO_QUERY</td>\n",
       "      <td>scotthamilton</td>\n",
       "      <td>is upset that he can't update his Facebook by ...</td>\n",
       "      <td>111</td>\n",
       "    </tr>\n",
       "    <tr>\n",
       "      <th>2</th>\n",
       "      <td>0</td>\n",
       "      <td>1467810917</td>\n",
       "      <td>Mon Apr 06 22:19:53 PDT 2009</td>\n",
       "      <td>NO_QUERY</td>\n",
       "      <td>mattycus</td>\n",
       "      <td>@Kenichan I dived many times for the ball. Man...</td>\n",
       "      <td>89</td>\n",
       "    </tr>\n",
       "    <tr>\n",
       "      <th>3</th>\n",
       "      <td>0</td>\n",
       "      <td>1467811184</td>\n",
       "      <td>Mon Apr 06 22:19:57 PDT 2009</td>\n",
       "      <td>NO_QUERY</td>\n",
       "      <td>ElleCTF</td>\n",
       "      <td>my whole body feels itchy and like its on fire</td>\n",
       "      <td>47</td>\n",
       "    </tr>\n",
       "    <tr>\n",
       "      <th>4</th>\n",
       "      <td>0</td>\n",
       "      <td>1467811193</td>\n",
       "      <td>Mon Apr 06 22:19:57 PDT 2009</td>\n",
       "      <td>NO_QUERY</td>\n",
       "      <td>Karoli</td>\n",
       "      <td>@nationwideclass no, it's not behaving at all....</td>\n",
       "      <td>111</td>\n",
       "    </tr>\n",
       "  </tbody>\n",
       "</table>\n",
       "</div>\n",
       "      <button class=\"colab-df-convert\" onclick=\"convertToInteractive('df-2668b6c0-2363-490a-840c-e6e0d71f7fa2')\"\n",
       "              title=\"Convert this dataframe to an interactive table.\"\n",
       "              style=\"display:none;\">\n",
       "        \n",
       "  <svg xmlns=\"http://www.w3.org/2000/svg\" height=\"24px\"viewBox=\"0 0 24 24\"\n",
       "       width=\"24px\">\n",
       "    <path d=\"M0 0h24v24H0V0z\" fill=\"none\"/>\n",
       "    <path d=\"M18.56 5.44l.94 2.06.94-2.06 2.06-.94-2.06-.94-.94-2.06-.94 2.06-2.06.94zm-11 1L8.5 8.5l.94-2.06 2.06-.94-2.06-.94L8.5 2.5l-.94 2.06-2.06.94zm10 10l.94 2.06.94-2.06 2.06-.94-2.06-.94-.94-2.06-.94 2.06-2.06.94z\"/><path d=\"M17.41 7.96l-1.37-1.37c-.4-.4-.92-.59-1.43-.59-.52 0-1.04.2-1.43.59L10.3 9.45l-7.72 7.72c-.78.78-.78 2.05 0 2.83L4 21.41c.39.39.9.59 1.41.59.51 0 1.02-.2 1.41-.59l7.78-7.78 2.81-2.81c.8-.78.8-2.07 0-2.86zM5.41 20L4 18.59l7.72-7.72 1.47 1.35L5.41 20z\"/>\n",
       "  </svg>\n",
       "      </button>\n",
       "      \n",
       "  <style>\n",
       "    .colab-df-container {\n",
       "      display:flex;\n",
       "      flex-wrap:wrap;\n",
       "      gap: 12px;\n",
       "    }\n",
       "\n",
       "    .colab-df-convert {\n",
       "      background-color: #E8F0FE;\n",
       "      border: none;\n",
       "      border-radius: 50%;\n",
       "      cursor: pointer;\n",
       "      display: none;\n",
       "      fill: #1967D2;\n",
       "      height: 32px;\n",
       "      padding: 0 0 0 0;\n",
       "      width: 32px;\n",
       "    }\n",
       "\n",
       "    .colab-df-convert:hover {\n",
       "      background-color: #E2EBFA;\n",
       "      box-shadow: 0px 1px 2px rgba(60, 64, 67, 0.3), 0px 1px 3px 1px rgba(60, 64, 67, 0.15);\n",
       "      fill: #174EA6;\n",
       "    }\n",
       "\n",
       "    [theme=dark] .colab-df-convert {\n",
       "      background-color: #3B4455;\n",
       "      fill: #D2E3FC;\n",
       "    }\n",
       "\n",
       "    [theme=dark] .colab-df-convert:hover {\n",
       "      background-color: #434B5C;\n",
       "      box-shadow: 0px 1px 3px 1px rgba(0, 0, 0, 0.15);\n",
       "      filter: drop-shadow(0px 1px 2px rgba(0, 0, 0, 0.3));\n",
       "      fill: #FFFFFF;\n",
       "    }\n",
       "  </style>\n",
       "\n",
       "      <script>\n",
       "        const buttonEl =\n",
       "          document.querySelector('#df-2668b6c0-2363-490a-840c-e6e0d71f7fa2 button.colab-df-convert');\n",
       "        buttonEl.style.display =\n",
       "          google.colab.kernel.accessAllowed ? 'block' : 'none';\n",
       "\n",
       "        async function convertToInteractive(key) {\n",
       "          const element = document.querySelector('#df-2668b6c0-2363-490a-840c-e6e0d71f7fa2');\n",
       "          const dataTable =\n",
       "            await google.colab.kernel.invokeFunction('convertToInteractive',\n",
       "                                                     [key], {});\n",
       "          if (!dataTable) return;\n",
       "\n",
       "          const docLinkHtml = 'Like what you see? Visit the ' +\n",
       "            '<a target=\"_blank\" href=https://colab.research.google.com/notebooks/data_table.ipynb>data table notebook</a>'\n",
       "            + ' to learn more about interactive tables.';\n",
       "          element.innerHTML = '';\n",
       "          dataTable['output_type'] = 'display_data';\n",
       "          await google.colab.output.renderOutput(dataTable, element);\n",
       "          const docLink = document.createElement('div');\n",
       "          docLink.innerHTML = docLinkHtml;\n",
       "          element.appendChild(docLink);\n",
       "        }\n",
       "      </script>\n",
       "    </div>\n",
       "  </div>\n",
       "  "
      ],
      "text/plain": [
       "   target    tweet_id                      datetime     query  \\\n",
       "0       0  1467810369  Mon Apr 06 22:19:45 PDT 2009  NO_QUERY   \n",
       "1       0  1467810672  Mon Apr 06 22:19:49 PDT 2009  NO_QUERY   \n",
       "2       0  1467810917  Mon Apr 06 22:19:53 PDT 2009  NO_QUERY   \n",
       "3       0  1467811184  Mon Apr 06 22:19:57 PDT 2009  NO_QUERY   \n",
       "4       0  1467811193  Mon Apr 06 22:19:57 PDT 2009  NO_QUERY   \n",
       "\n",
       "                id                                              tweet  \\\n",
       "0  _TheSpecialOne_  @switchfoot http://twitpic.com/2y1zl - Awww, t...   \n",
       "1    scotthamilton  is upset that he can't update his Facebook by ...   \n",
       "2         mattycus  @Kenichan I dived many times for the ball. Man...   \n",
       "3          ElleCTF    my whole body feels itchy and like its on fire    \n",
       "4           Karoli  @nationwideclass no, it's not behaving at all....   \n",
       "\n",
       "   tweet_len  \n",
       "0        115  \n",
       "1        111  \n",
       "2         89  \n",
       "3         47  \n",
       "4        111  "
      ]
     },
     "execution_count": 26,
     "metadata": {},
     "output_type": "execute_result"
    }
   ],
   "source": [
    "df.head()"
   ]
  },
  {
   "cell_type": "code",
   "execution_count": 27,
   "id": "fb64c768",
   "metadata": {
    "id": "fb64c768"
   },
   "outputs": [],
   "source": [
    "df = df[df['tweet'].apply(lambda x : x.isascii())]"
   ]
  },
  {
   "cell_type": "code",
   "execution_count": 28,
   "id": "9891d7e9",
   "metadata": {
    "colab": {
     "base_uri": "https://localhost:8080/"
    },
    "id": "9891d7e9",
    "outputId": "63059bb4-a3ea-478d-bfc9-9a1591165f51"
   },
   "outputs": [
    {
     "data": {
      "text/plain": [
       "True"
      ]
     },
     "execution_count": 28,
     "metadata": {},
     "output_type": "execute_result"
    }
   ],
   "source": [
    "df['tweet'].apply(lambda x : x.isascii()).all()"
   ]
  },
  {
   "cell_type": "code",
   "execution_count": 29,
   "id": "e3d90e55",
   "metadata": {
    "colab": {
     "base_uri": "https://localhost:8080/",
     "height": 506
    },
    "id": "e3d90e55",
    "outputId": "ce18b4c7-8cba-41fc-c3e1-62f451149aa0"
   },
   "outputs": [
    {
     "data": {
      "image/png": "[encoded data removed]",
      "text/plain": [
       "<Figure size 864x576 with 1 Axes>"
      ]
     },
     "metadata": {
      "image/png": {
       "height": 489,
       "width": 761
      }
     },
     "output_type": "display_data"
    }
   ],
   "source": [
    "sns.countplot(df[\"target\"]);"
   ]
  },
  {
   "cell_type": "code",
   "execution_count": 30,
   "id": "kTnMyJRmSuiv",
   "metadata": {
    "colab": {
     "base_uri": "https://localhost:8080/"
    },
    "id": "kTnMyJRmSuiv",
    "outputId": "09be0237-0815-45b9-cd1e-04c374761044"
   },
   "outputs": [
    {
     "data": {
      "text/plain": [
       "array([0., 1.])"
      ]
     },
     "execution_count": 30,
     "metadata": {},
     "output_type": "execute_result"
    }
   ],
   "source": [
    "(df.target / 4).unique()"
   ]
  },
  {
   "cell_type": "code",
   "execution_count": 31,
   "id": "KZTZr-8FTJQS",
   "metadata": {
    "id": "KZTZr-8FTJQS"
   },
   "outputs": [],
   "source": [
    "df[\"target\"] = df.target / 4"
   ]
  },
  {
   "cell_type": "code",
   "execution_count": 32,
   "id": "CRwbGLhNTPNj",
   "metadata": {
    "colab": {
     "base_uri": "https://localhost:8080/"
    },
    "id": "CRwbGLhNTPNj",
    "outputId": "d58f456c-45f5-42bd-dbb6-7b659866aaf3"
   },
   "outputs": [
    {
     "data": {
      "text/plain": [
       "array([0., 1.])"
      ]
     },
     "execution_count": 32,
     "metadata": {},
     "output_type": "execute_result"
    }
   ],
   "source": [
    "df.target.unique()"
   ]
  },
  {
   "cell_type": "code",
   "execution_count": 33,
   "id": "2GEMfBvbXyp2",
   "metadata": {
    "id": "2GEMfBvbXyp2"
   },
   "outputs": [],
   "source": [
    "df = df.sample(frac=1)"
   ]
  },
  {
   "cell_type": "code",
   "execution_count": 34,
   "id": "db359060",
   "metadata": {
    "id": "db359060"
   },
   "outputs": [],
   "source": [
    "##################### Creating moc df for faster dvelepment, remove for the main run #####################\n",
    "df = df[:10000]"
   ]
  },
  {
   "cell_type": "code",
   "execution_count": 35,
   "id": "e48KvHjqX11j",
   "metadata": {
    "colab": {
     "base_uri": "https://localhost:8080/",
     "height": 506
    },
    "id": "e48KvHjqX11j",
    "outputId": "13c06778-1c81-4769-ed38-0f53fef839a8"
   },
   "outputs": [
    {
     "data": {
      "image/png": "[encoded data removed]",
      "text/plain": [
       "<Figure size 864x576 with 1 Axes>"
      ]
     },
     "metadata": {
      "image/png": {
       "height": 489,
       "width": 745
      }
     },
     "output_type": "display_data"
    }
   ],
   "source": [
    "sns.countplot(df[\"target\"]);"
   ]
  },
  {
   "cell_type": "code",
   "execution_count": 36,
   "id": "47938e89",
   "metadata": {
    "id": "47938e89"
   },
   "outputs": [],
   "source": [
    "def remove_newlines_tabs(text):\n",
    "    formatted_text = text.replace('\\\\n', ' ').replace('\\n', ' ').replace('\\t',' ')\n",
    "    formatted_text = formatted_text.replace('\\\\', ' ').replace('. com', '.com')\n",
    "    return formatted_text\n",
    "\n",
    "def remove_mentions_hashtagSigns(text):\n",
    "    tokenized = text.split(\" \")\n",
    "    formatted_text = \"\"\n",
    "    for w in tokenized:\n",
    "        if not w:\n",
    "            continue\n",
    "        if w[0] == \"@\":\n",
    "            continue\n",
    "        if w[0] == \"#\":\n",
    "            formatted_text += f\"{w[1:]} \"\n",
    "        else:\n",
    "            formatted_text += f\"{w} \"\n",
    "            \n",
    "    return formatted_text.strip()\n",
    "\n",
    "def strip_html_tags(text):\n",
    "    soup = BeautifulSoup(text, \"html.parser\")\n",
    "    stripped_text = soup.get_text(separator=\" \")\n",
    "    return stripped_text\n",
    "\n",
    "def remove_punctuations(text):\n",
    "    formatted = \"\"\n",
    "    for char in text:\n",
    "        if char in string.punctuation:\n",
    "            continue\n",
    "        else:\n",
    "            formatted += char\n",
    "    return formatted\n",
    "\n",
    "def remove_links(text):\n",
    "    remove_https = re.sub(r'http\\S+', '', text)\n",
    "    remove_com = re.sub(r\"\\ [A-Za-z]*\\.com\", \" \", remove_https)\n",
    "    return remove_com\n",
    "\n",
    "def remove_whitespace(text):\n",
    "    pattern = re.compile(r'\\s+') \n",
    "    Without_whitespace = re.sub(pattern, ' ', text)\n",
    "    text = Without_whitespace.replace('?', ' ? ').replace(')', ') ')\n",
    "    return text\n",
    "\n",
    "def accented_characters_removal(text):\n",
    "    # Remove accented characters from text using unidecode.\n",
    "    # Unidecode() - It takes unicode data & tries to represent it to ASCII characters. \n",
    "    text = unidecode.unidecode(text)\n",
    "    return text\n",
    "\n",
    "def lower_casing_text(text):\n",
    "    return text.lower()\n",
    "\n",
    "def reducing_incorrect_character_repeatation(text):\n",
    "    Pattern_alpha = re.compile(r\"([A-Za-z])\\1{1,}\", re.DOTALL)\n",
    "    \n",
    "    # Limiting all the  repeatation to two characters.\n",
    "    Formatted_text = Pattern_alpha.sub(r\"\\1\\1\", text) \n",
    "    \n",
    "    # Pattern matching for all the punctuations that can occur\n",
    "    Pattern_Punct = re.compile(r'([.,/#!$%^&*?;:{}=_`~()+-])\\1{1,}')\n",
    "    \n",
    "    # Limiting punctuations in previously formatted string to only one.\n",
    "    Combined_Formatted = Pattern_Punct.sub(r'\\1', Formatted_text)\n",
    "    \n",
    "    # The below statement is replacing repeatation of spaces that occur more than two times with that of one occurrence.\n",
    "    Final_Formatted = re.sub(' {2,}',' ', Combined_Formatted)\n",
    "    return Final_Formatted\n",
    "\n",
    "\n",
    "def expand_contractions(text, contraction_mapping):\n",
    "    list_Of_tokens = text.split(' ')\n",
    "    for Word in list_Of_tokens: \n",
    "         if Word in contraction_mapping: \n",
    "            list_Of_tokens = [item.replace(Word, contraction_mapping[Word]) for item in list_Of_tokens]\n",
    "                \n",
    "    String_Of_tokens = ' '.join(str(e) for e in list_Of_tokens) \n",
    "    return String_Of_tokens\n",
    "\n",
    "def removing_special_characters(text):\n",
    "    formatted_text = re.sub(r\"[^a-zA-Z0-9:$-,%.?!]+\", ' ', text) \n",
    "    return formatted_text\n",
    "\n",
    "def remove_numbers(text):\n",
    "    formatted_text = re.sub(r\"[^a-zA-Z:$-,%.?!]+\", ' ', text)\n",
    "    return formatted_text\n",
    "\n",
    "stoplist = stopwords.words('english') \n",
    "stoplist = set(stoplist)\n",
    "def removing_stopwords(text):\n",
    "    text = repr(text)\n",
    "    No_StopWords = [word for word in word_tokenize(text) if word.lower() not in stoplist]\n",
    "    words_string = ' '.join(No_StopWords)    \n",
    "    return words_string\n",
    "\n",
    "def spelling_correction(text):\n",
    "    spell = Speller(lang='en')\n",
    "    Corrected_text = spell(text)\n",
    "    return Corrected_text"
   ]
  },
  {
   "cell_type": "code",
   "execution_count": 37,
   "id": "c3ecbe24",
   "metadata": {
    "id": "c3ecbe24"
   },
   "outputs": [],
   "source": [
    "with open('/content/gdrive/MyDrive/MIR-HW4/contraction_map.json') as f:\n",
    "    contraction_map = json.load(f)\n",
    "\n",
    "def cleaning_and_preprocessing(tweet,\n",
    "                              remove_newlines_=True,\n",
    "                              remove_mentions_hashtagSigns_=True,\n",
    "                              strip_html_tags_=True,\n",
    "                              remove_punctuations_=True,\n",
    "                              remove_links_=True,\n",
    "                              remove_whitespace_=True,\n",
    "                              accented_characters_removal_=True,\n",
    "                              lower_casing_text_=True,\n",
    "                              reducing_incorrect_character_repeatation_=True,\n",
    "                              expand_contractions_=True,\n",
    "                              remove_numbers_=True,\n",
    "                              removing_stopwords_=True,\n",
    "                              spelling_correction_=False):\n",
    "    \n",
    "    \"\"\"\n",
    "    input: a single text (e.g., a tweet or a sentence with type string).\n",
    "    output: a single text (e.g., a tweet or a sentence with type string) which is clean:)\n",
    "    \"\"\"\n",
    "    \n",
    "    ## Cleaning\n",
    "    text = tweet\n",
    "    if remove_newlines_:\n",
    "        text = remove_newlines_tabs(text)\n",
    "    if remove_mentions_hashtagSigns_:\n",
    "        text = remove_mentions_hashtagSigns(text)\n",
    "    if strip_html_tags_:\n",
    "        text = strip_html_tags(text)\n",
    "    if remove_punctuations_:\n",
    "        text = remove_punctuations(text)\n",
    "    if remove_links_:\n",
    "        text = remove_links(text)\n",
    "    if remove_whitespace_:\n",
    "        text = remove_whitespace(text)\n",
    "    if  accented_characters_removal_:   \n",
    "        text = accented_characters_removal(text)\n",
    "    if lower_casing_text_:\n",
    "        text = lower_casing_text(text)\n",
    "    if reducing_incorrect_character_repeatation_:\n",
    "        text = reducing_incorrect_character_repeatation(text)\n",
    "    if expand_contractions_:\n",
    "        text = expand_contractions(text, contraction_mapping=contraction_map)\n",
    "    if remove_numbers_:\n",
    "        text = remove_numbers(text)\n",
    "    \n",
    "    ## preprocessing\n",
    "    if removing_stopwords_:\n",
    "        text = removing_stopwords(text)\n",
    "    if spelling_correction_:\n",
    "        text = spelling_correction(text)\n",
    "    return text\n",
    "\n",
    "\n",
    "def lemmatization(text):\n",
    "    \"\"\"\n",
    "        input: a single string text (e.g., tweet)\n",
    "    \"\"\"\n",
    "    w_tokenizer = nltk.tokenize.WhitespaceTokenizer()\n",
    "    lemmatizer = nltk.stem.WordNetLemmatizer()\n",
    "    lemma = [lemmatizer.lemmatize(w,'v') for w in w_tokenizer.tokenize(text)]\n",
    "    return lemma    "
   ]
  },
  {
   "cell_type": "code",
   "execution_count": 38,
   "id": "5e184363",
   "metadata": {
    "id": "5e184363"
   },
   "outputs": [],
   "source": [
    "def preprocess_all_tweets(df):\n",
    "    \"\"\"\n",
    "        gets whole df as input.\n",
    "        returns df with new column called cleaned tweets.\n",
    "    \"\"\"\n",
    "    cleaned_tweets = []\n",
    "    for tweet in tqdm(df.tweet):\n",
    "        cleaned_tweet = cleaning_and_preprocessing(tweet)\n",
    "        cleaned_tweets.append(cleaned_tweet)\n",
    "    \n",
    "    df[\"cleaned_tweets\"] = cleaned_tweets\n",
    "    return df\n",
    "\n",
    "\n",
    "def lemmatize_all_tweets(df):\n",
    "    \"\"\"\n",
    "        gets whole df as input.\n",
    "        returns df with new column called lemmatized tweets.\n",
    "    \"\"\"\n",
    "    lemmatized_tweets = []\n",
    "    for tweet in tqdm(df.cleaned_tweets):\n",
    "        lemmatized_tweet = cleaning_and_preprocessing(tweet)\n",
    "        lemmatized_tweets.append(lemmatized_tweet)\n",
    "    \n",
    "    df[\"lemmatized_tweets\"] = lemmatized_tweets\n",
    "    return df"
   ]
  },
  {
   "cell_type": "code",
   "execution_count": 39,
   "id": "6a2ba7d0",
   "metadata": {
    "colab": {
     "base_uri": "https://localhost:8080/"
    },
    "id": "6a2ba7d0",
    "outputId": "e5f1a3e3-80e1-45bf-960a-4dedd13914db"
   },
   "outputs": [
    {
     "name": "stderr",
     "output_type": "stream",
     "text": [
      "100%|██████████| 10000/10000 [00:02<00:00, 3744.51it/s]\n"
     ]
    }
   ],
   "source": [
    "df = preprocess_all_tweets(df)\n",
    "# df = lemmatize_all_tweets(df)"
   ]
  },
  {
   "cell_type": "code",
   "execution_count": 40,
   "id": "61fc58f7",
   "metadata": {
    "colab": {
     "base_uri": "https://localhost:8080/",
     "height": 206
    },
    "id": "61fc58f7",
    "outputId": "5562d22f-7e79-4f22-c156-115382dafe28"
   },
   "outputs": [
    {
     "data": {
      "text/html": [
       "\n",
       "  <div id=\"df-caa9c65a-48c2-4adb-880b-aa715b54da91\">\n",
       "    <div class=\"colab-df-container\">\n",
       "      <div>\n",
       "<style scoped>\n",
       "    .dataframe tbody tr th:only-of-type {\n",
       "        vertical-align: middle;\n",
       "    }\n",
       "\n",
       "    .dataframe tbody tr th {\n",
       "        vertical-align: top;\n",
       "    }\n",
       "\n",
       "    .dataframe thead th {\n",
       "        text-align: right;\n",
       "    }\n",
       "</style>\n",
       "<table border=\"1\" class=\"dataframe\">\n",
       "  <thead>\n",
       "    <tr style=\"text-align: right;\">\n",
       "      <th></th>\n",
       "      <th>target</th>\n",
       "      <th>tweet_id</th>\n",
       "      <th>datetime</th>\n",
       "      <th>query</th>\n",
       "      <th>id</th>\n",
       "      <th>tweet</th>\n",
       "      <th>tweet_len</th>\n",
       "      <th>cleaned_tweets</th>\n",
       "    </tr>\n",
       "  </thead>\n",
       "  <tbody>\n",
       "    <tr>\n",
       "      <th>1575549</th>\n",
       "      <td>1.0</td>\n",
       "      <td>2189409732</td>\n",
       "      <td>Mon Jun 15 23:58:00 PDT 2009</td>\n",
       "      <td>NO_QUERY</td>\n",
       "      <td>MooseUpdate</td>\n",
       "      <td>Cuddle snuggle beddy time!</td>\n",
       "      <td>27</td>\n",
       "      <td>'cuddle snuggle beddy time '</td>\n",
       "    </tr>\n",
       "    <tr>\n",
       "      <th>211392</th>\n",
       "      <td>0.0</td>\n",
       "      <td>1974478410</td>\n",
       "      <td>Sat May 30 13:13:02 PDT 2009</td>\n",
       "      <td>NO_QUERY</td>\n",
       "      <td>slipintothis</td>\n",
       "      <td>Go away, depressing weather. You make me sad</td>\n",
       "      <td>45</td>\n",
       "      <td>'go away depressing weather make sad '</td>\n",
       "    </tr>\n",
       "    <tr>\n",
       "      <th>1231067</th>\n",
       "      <td>1.0</td>\n",
       "      <td>1991682769</td>\n",
       "      <td>Mon Jun 01 07:28:47 PDT 2009</td>\n",
       "      <td>NO_QUERY</td>\n",
       "      <td>mschu22</td>\n",
       "      <td>My only day of nannying this week. 9-5.</td>\n",
       "      <td>40</td>\n",
       "      <td>'my day nannying week '</td>\n",
       "    </tr>\n",
       "    <tr>\n",
       "      <th>832974</th>\n",
       "      <td>1.0</td>\n",
       "      <td>1557680607</td>\n",
       "      <td>Sun Apr 19 05:28:56 PDT 2009</td>\n",
       "      <td>NO_QUERY</td>\n",
       "      <td>FrancisCollis</td>\n",
       "      <td>Sunday, sun is shining,  sitting in the garden...</td>\n",
       "      <td>96</td>\n",
       "      <td>'sunday sun shining sitting garden setting new...</td>\n",
       "    </tr>\n",
       "    <tr>\n",
       "      <th>1138833</th>\n",
       "      <td>1.0</td>\n",
       "      <td>1976878335</td>\n",
       "      <td>Sat May 30 19:24:22 PDT 2009</td>\n",
       "      <td>NO_QUERY</td>\n",
       "      <td>sssemester</td>\n",
       "      <td>@RawHealer Haha, exactly!</td>\n",
       "      <td>26</td>\n",
       "      <td>'haha exactly '</td>\n",
       "    </tr>\n",
       "  </tbody>\n",
       "</table>\n",
       "</div>\n",
       "      <button class=\"colab-df-convert\" onclick=\"convertToInteractive('df-caa9c65a-48c2-4adb-880b-aa715b54da91')\"\n",
       "              title=\"Convert this dataframe to an interactive table.\"\n",
       "              style=\"display:none;\">\n",
       "        \n",
       "  <svg xmlns=\"http://www.w3.org/2000/svg\" height=\"24px\"viewBox=\"0 0 24 24\"\n",
       "       width=\"24px\">\n",
       "    <path d=\"M0 0h24v24H0V0z\" fill=\"none\"/>\n",
       "    <path d=\"M18.56 5.44l.94 2.06.94-2.06 2.06-.94-2.06-.94-.94-2.06-.94 2.06-2.06.94zm-11 1L8.5 8.5l.94-2.06 2.06-.94-2.06-.94L8.5 2.5l-.94 2.06-2.06.94zm10 10l.94 2.06.94-2.06 2.06-.94-2.06-.94-.94-2.06-.94 2.06-2.06.94z\"/><path d=\"M17.41 7.96l-1.37-1.37c-.4-.4-.92-.59-1.43-.59-.52 0-1.04.2-1.43.59L10.3 9.45l-7.72 7.72c-.78.78-.78 2.05 0 2.83L4 21.41c.39.39.9.59 1.41.59.51 0 1.02-.2 1.41-.59l7.78-7.78 2.81-2.81c.8-.78.8-2.07 0-2.86zM5.41 20L4 18.59l7.72-7.72 1.47 1.35L5.41 20z\"/>\n",
       "  </svg>\n",
       "      </button>\n",
       "      \n",
       "  <style>\n",
       "    .colab-df-container {\n",
       "      display:flex;\n",
       "      flex-wrap:wrap;\n",
       "      gap: 12px;\n",
       "    }\n",
       "\n",
       "    .colab-df-convert {\n",
       "      background-color: #E8F0FE;\n",
       "      border: none;\n",
       "      border-radius: 50%;\n",
       "      cursor: pointer;\n",
       "      display: none;\n",
       "      fill: #1967D2;\n",
       "      height: 32px;\n",
       "      padding: 0 0 0 0;\n",
       "      width: 32px;\n",
       "    }\n",
       "\n",
       "    .colab-df-convert:hover {\n",
       "      background-color: #E2EBFA;\n",
       "      box-shadow: 0px 1px 2px rgba(60, 64, 67, 0.3), 0px 1px 3px 1px rgba(60, 64, 67, 0.15);\n",
       "      fill: #174EA6;\n",
       "    }\n",
       "\n",
       "    [theme=dark] .colab-df-convert {\n",
       "      background-color: #3B4455;\n",
       "      fill: #D2E3FC;\n",
       "    }\n",
       "\n",
       "    [theme=dark] .colab-df-convert:hover {\n",
       "      background-color: #434B5C;\n",
       "      box-shadow: 0px 1px 3px 1px rgba(0, 0, 0, 0.15);\n",
       "      filter: drop-shadow(0px 1px 2px rgba(0, 0, 0, 0.3));\n",
       "      fill: #FFFFFF;\n",
       "    }\n",
       "  </style>\n",
       "\n",
       "      <script>\n",
       "        const buttonEl =\n",
       "          document.querySelector('#df-caa9c65a-48c2-4adb-880b-aa715b54da91 button.colab-df-convert');\n",
       "        buttonEl.style.display =\n",
       "          google.colab.kernel.accessAllowed ? 'block' : 'none';\n",
       "\n",
       "        async function convertToInteractive(key) {\n",
       "          const element = document.querySelector('#df-caa9c65a-48c2-4adb-880b-aa715b54da91');\n",
       "          const dataTable =\n",
       "            await google.colab.kernel.invokeFunction('convertToInteractive',\n",
       "                                                     [key], {});\n",
       "          if (!dataTable) return;\n",
       "\n",
       "          const docLinkHtml = 'Like what you see? Visit the ' +\n",
       "            '<a target=\"_blank\" href=https://colab.research.google.com/notebooks/data_table.ipynb>data table notebook</a>'\n",
       "            + ' to learn more about interactive tables.';\n",
       "          element.innerHTML = '';\n",
       "          dataTable['output_type'] = 'display_data';\n",
       "          await google.colab.output.renderOutput(dataTable, element);\n",
       "          const docLink = document.createElement('div');\n",
       "          docLink.innerHTML = docLinkHtml;\n",
       "          element.appendChild(docLink);\n",
       "        }\n",
       "      </script>\n",
       "    </div>\n",
       "  </div>\n",
       "  "
      ],
      "text/plain": [
       "         target    tweet_id                      datetime     query  \\\n",
       "1575549     1.0  2189409732  Mon Jun 15 23:58:00 PDT 2009  NO_QUERY   \n",
       "211392      0.0  1974478410  Sat May 30 13:13:02 PDT 2009  NO_QUERY   \n",
       "1231067     1.0  1991682769  Mon Jun 01 07:28:47 PDT 2009  NO_QUERY   \n",
       "832974      1.0  1557680607  Sun Apr 19 05:28:56 PDT 2009  NO_QUERY   \n",
       "1138833     1.0  1976878335  Sat May 30 19:24:22 PDT 2009  NO_QUERY   \n",
       "\n",
       "                    id                                              tweet  \\\n",
       "1575549    MooseUpdate                        Cuddle snuggle beddy time!    \n",
       "211392    slipintothis      Go away, depressing weather. You make me sad    \n",
       "1231067        mschu22           My only day of nannying this week. 9-5.    \n",
       "832974   FrancisCollis  Sunday, sun is shining,  sitting in the garden...   \n",
       "1138833     sssemester                         @RawHealer Haha, exactly!    \n",
       "\n",
       "         tweet_len                                     cleaned_tweets  \n",
       "1575549         27                       'cuddle snuggle beddy time '  \n",
       "211392          45             'go away depressing weather make sad '  \n",
       "1231067         40                            'my day nannying week '  \n",
       "832974          96  'sunday sun shining sitting garden setting new...  \n",
       "1138833         26                                    'haha exactly '  "
      ]
     },
     "execution_count": 40,
     "metadata": {},
     "output_type": "execute_result"
    }
   ],
   "source": [
    "df.head()"
   ]
  },
  {
   "cell_type": "code",
   "execution_count": 41,
   "id": "ce5e6145",
   "metadata": {
    "colab": {
     "base_uri": "https://localhost:8080/"
    },
    "id": "ce5e6145",
    "outputId": "b1de15dd-81fb-478c-d14d-7a0d1cb5a22a"
   },
   "outputs": [
    {
     "data": {
      "text/plain": [
       "array([1., 0.])"
      ]
     },
     "execution_count": 41,
     "metadata": {},
     "output_type": "execute_result"
    }
   ],
   "source": [
    "df.target.unique()"
   ]
  },
  {
   "cell_type": "markdown",
   "id": "4a922a1c",
   "metadata": {
    "id": "4a922a1c"
   },
   "source": [
    "# ----------- Embedding with Sent-Transformer, Classify with classic models"
   ]
  },
  {
   "cell_type": "code",
   "execution_count": null,
   "id": "-sBtsZKjirX-",
   "metadata": {
    "id": "-sBtsZKjirX-"
   },
   "outputs": [],
   "source": [
    "!pip install sentence_transformers\n",
    "from sentence_transformers import SentenceTransformer\n",
    "from sklearn.linear_model import LogisticRegression\n",
    "from sklearn.model_selection import train_test_split\n",
    "import sklearn.metrics as met\n",
    "from sklearn.svm import LinearSVC\n",
    "from sklearn.linear_model import LogisticRegression\n",
    "from sklearn.ensemble import RandomForestClassifier"
   ]
  },
  {
   "cell_type": "code",
   "execution_count": 44,
   "id": "aa04d594",
   "metadata": {
    "colab": {
     "base_uri": "https://localhost:8080/"
    },
    "id": "aa04d594",
    "outputId": "2f415f5a-2d82-479b-b2c5-ee0989845c3d"
   },
   "outputs": [
    {
     "name": "stderr",
     "output_type": "stream",
     "text": [
      "100%|██████████| 10000/10000 [01:11<00:00, 139.98it/s]\n"
     ]
    }
   ],
   "source": [
    "def create_embedding(df, model):\n",
    "    all_embeddings = []\n",
    "    for tweet in tqdm(df.cleaned_tweets):\n",
    "        \n",
    "        tweet_embedding = model.encode([tweet])\n",
    "        all_embeddings.append(tweet_embedding)\n",
    "\n",
    "    with open(\"/content/gdrive/MyDrive/all_embeddings.npy\", \"wb\") as f:\n",
    "        np.save(f, all_embeddings)\n",
    "    \n",
    "    return all_embeddings\n",
    "\n",
    "\n",
    "model = SentenceTransformer('all-MiniLM-L6-v2')\n",
    "embeddings = create_embedding(df, model)"
   ]
  },
  {
   "cell_type": "code",
   "execution_count": 45,
   "id": "26f61b68",
   "metadata": {
    "id": "26f61b68"
   },
   "outputs": [],
   "source": [
    "df[\"embeddings\"] = embeddings"
   ]
  },
  {
   "cell_type": "code",
   "execution_count": 61,
   "id": "3bLLnd7kkduQ",
   "metadata": {
    "id": "3bLLnd7kkduQ"
   },
   "outputs": [],
   "source": [
    "y = df.pop(\"target\")\n",
    "data = df.embeddings"
   ]
  },
  {
   "cell_type": "code",
   "execution_count": 62,
   "id": "KFbWzAUUmdlG",
   "metadata": {
    "id": "KFbWzAUUmdlG"
   },
   "outputs": [],
   "source": [
    "dm = np.zeros((len(data), embeddings[0].shape[1]))\n",
    "\n",
    "for i, em in enumerate(embeddings):\n",
    "    dm[i, :] = em"
   ]
  },
  {
   "cell_type": "code",
   "execution_count": 63,
   "id": "T1Q1QMzuj9IN",
   "metadata": {
    "id": "T1Q1QMzuj9IN"
   },
   "outputs": [],
   "source": [
    "X_train, X_test, y_train, y_test = train_test_split(dm, y, test_size=0.15, shuffle=True, random_state=76)"
   ]
  },
  {
   "cell_type": "code",
   "execution_count": 64,
   "id": "Ng5h_k7pmQ7i",
   "metadata": {
    "colab": {
     "base_uri": "https://localhost:8080/"
    },
    "id": "Ng5h_k7pmQ7i",
    "outputId": "20117c32-95f0-4f17-cf63-ea4bbfe4fb47"
   },
   "outputs": [
    {
     "data": {
      "text/plain": [
       "((8500, 384), (8500,))"
      ]
     },
     "execution_count": 64,
     "metadata": {},
     "output_type": "execute_result"
    }
   ],
   "source": [
    "X_train.shape, y_train.shape"
   ]
  },
  {
   "cell_type": "code",
   "execution_count": 65,
   "id": "0LMa2Nz6kpaV",
   "metadata": {
    "id": "0LMa2Nz6kpaV"
   },
   "outputs": [],
   "source": [
    "\n",
    "rf_clf = RandomForestClassifier()\n",
    "\n",
    "rf_clf = rf_clf.fit(X_train, y_train)"
   ]
  },
  {
   "cell_type": "code",
   "execution_count": 70,
   "id": "JeuZ2AXkkqPg",
   "metadata": {
    "id": "JeuZ2AXkkqPg"
   },
   "outputs": [],
   "source": [
    "def score(y_test, pred):\n",
    "    if y_test.sum() == len(y_test) or y_test.sum() == 0: \n",
    "        return met.accuracy_score(y_test, pred), met.f1_score(y_test, pred),\\\n",
    "        met.precision_score(y_test, pred),\\\n",
    "        met.recall_score(y_test, pred), None\n",
    "    return met.accuracy_score(y_test, pred), met.f1_score(y_test, pred),\\\n",
    "    met.precision_score(y_test, pred),\\\n",
    "    met.recall_score(y_test, pred),\\\n",
    "    met.roc_auc_score(y_test, pred)\n",
    "\n",
    "def print_score(y_test, pred):\n",
    "    print('Accuracy:  ', met.accuracy_score(y_test, pred))\n",
    "    print('F1_score:  ', met.f1_score(y_test, pred))\n",
    "    print('Precision: ', met.precision_score(y_test, pred))\n",
    "    print('Recall:    ', met.recall_score(y_test, pred))"
   ]
  },
  {
   "cell_type": "code",
   "execution_count": 67,
   "id": "xt3zgJ-Omvr0",
   "metadata": {
    "id": "xt3zgJ-Omvr0"
   },
   "outputs": [],
   "source": [
    "pred = rf_clf.predict(X_test)\n",
    "acc, f1, prec, rec, roc = score(y_test, pred)"
   ]
  },
  {
   "cell_type": "code",
   "execution_count": 71,
   "id": "opRY1Ejtm8xg",
   "metadata": {
    "colab": {
     "base_uri": "https://localhost:8080/"
    },
    "id": "opRY1Ejtm8xg",
    "outputId": "e77c2fe4-a8ad-42b6-8888-6ea79e05dc3e"
   },
   "outputs": [
    {
     "name": "stdout",
     "output_type": "stream",
     "text": [
      "Accuracy:   0.7086666666666667\n",
      "F1_score:   0.6937631394533987\n",
      "Precision:  0.7236842105263158\n",
      "Recall:     0.6662180349932705\n"
     ]
    }
   ],
   "source": [
    "print_score(y_test, pred)"
   ]
  },
  {
   "cell_type": "code",
   "execution_count": 72,
   "id": "7wjL0Jvmm9Fl",
   "metadata": {
    "id": "7wjL0Jvmm9Fl"
   },
   "outputs": [],
   "source": [
    "lg_clf = LogisticRegression()\n",
    "lg_clf = lg_clf.fit(X_train, y_train)"
   ]
  },
  {
   "cell_type": "code",
   "execution_count": 73,
   "id": "V9WY_ROgni6b",
   "metadata": {
    "colab": {
     "base_uri": "https://localhost:8080/"
    },
    "id": "V9WY_ROgni6b",
    "outputId": "70e451b5-2623-4cef-840f-e55006363533"
   },
   "outputs": [
    {
     "name": "stdout",
     "output_type": "stream",
     "text": [
      "Accuracy:   0.7386666666666667\n",
      "F1_score:   0.7315068493150685\n",
      "Precision:  0.7447698744769874\n",
      "Recall:     0.7187079407806191\n"
     ]
    }
   ],
   "source": [
    "pred = lg_clf.predict(X_test)\n",
    "print_score(y_test, pred)"
   ]
  },
  {
   "cell_type": "code",
   "execution_count": 74,
   "id": "lbXNXpQVnq4c",
   "metadata": {
    "id": "lbXNXpQVnq4c"
   },
   "outputs": [],
   "source": [
    "svm_clf = LinearSVC()\n",
    "svm_clf = svm_clf.fit(X_train, y_train)"
   ]
  },
  {
   "cell_type": "code",
   "execution_count": 75,
   "id": "mCDY5-tcn6Qj",
   "metadata": {
    "colab": {
     "base_uri": "https://localhost:8080/"
    },
    "id": "mCDY5-tcn6Qj",
    "outputId": "6092c5f1-e491-4a6f-a6aa-406dc3eaf263"
   },
   "outputs": [
    {
     "name": "stdout",
     "output_type": "stream",
     "text": [
      "Accuracy:   0.734\n",
      "F1_score:   0.7283866575901975\n",
      "Precision:  0.7369146005509641\n",
      "Recall:     0.7200538358008075\n"
     ]
    }
   ],
   "source": [
    "pred = svm_clf.predict(X_test)\n",
    "print_score(y_test, pred)"
   ]
  },
  {
   "cell_type": "markdown",
   "id": "VZNeXujzJGH5",
   "metadata": {
    "id": "VZNeXujzJGH5"
   },
   "source": [
    "# ----------- Training deep BERT model for sentiment analysis"
   ]
  },
  {
   "cell_type": "code",
   "execution_count": null,
   "id": "418c2bbd",
   "metadata": {
    "id": "418c2bbd"
   },
   "outputs": [],
   "source": [
    "PRE_TRAINED_MODEL_NAME = 'bert-base-cased'\n",
    "tokenizer = BertTokenizer.from_pretrained(PRE_TRAINED_MODEL_NAME)\n",
    "\n",
    "configuration = BertConfig(num_attention_heads=3, num_hidden_layers=3, intermediate_size=1024)\n",
    "model = BertModel(configuration)"
   ]
  },
  {
   "cell_type": "code",
   "execution_count": null,
   "id": "hu63cAvPGxiY",
   "metadata": {
    "colab": {
     "base_uri": "https://localhost:8080/"
    },
    "id": "hu63cAvPGxiY",
    "outputId": "6084eb78-baf8-4100-93f4-7ee0ab6c320a"
   },
   "outputs": [
    {
     "name": "stdout",
     "output_type": "stream",
     "text": [
      " Sentence: 'haha exactly '\n",
      "   Tokens: [\"'\", 'ha', '##ha', 'exactly', \"'\"]\n",
      "Token IDs: [112, 5871, 2328, 2839, 112]\n"
     ]
    }
   ],
   "source": [
    "sample_txt = df.cleaned_tweets.iloc[4]\n",
    "tokens = tokenizer.tokenize(sample_txt)\n",
    "token_ids = tokenizer.convert_tokens_to_ids(tokens)\n",
    "\n",
    "print(f' Sentence: {sample_txt}')\n",
    "print(f'   Tokens: {tokens}')\n",
    "print(f'Token IDs: {token_ids}')"
   ]
  },
  {
   "cell_type": "code",
   "execution_count": null,
   "id": "4d482e87",
   "metadata": {
    "colab": {
     "base_uri": "https://localhost:8080/"
    },
    "id": "4d482e87",
    "outputId": "2bc2ffb9-df6a-4eb9-8acf-31d57e79eda1"
   },
   "outputs": [
    {
     "name": "stderr",
     "output_type": "stream",
     "text": [
      "Truncation was not explicitly activated but `max_length` is provided a specific value, please use `truncation=True` to explicitly truncate examples to max length. Defaulting to 'longest_first' truncation strategy. If you encode pairs of sequences (GLUE-style) with the tokenizer you can select this strategy more precisely by providing a specific strategy to `truncation`.\n"
     ]
    },
    {
     "data": {
      "text/plain": [
       "dict_keys(['input_ids', 'attention_mask'])"
      ]
     },
     "execution_count": 178,
     "metadata": {},
     "output_type": "execute_result"
    }
   ],
   "source": [
    "encoding = tokenizer.encode_plus(\n",
    "    sample_txt,\n",
    "    max_length=32,\n",
    "    add_special_tokens=True, # Add '[CLS]' and '[SEP]'\n",
    "    return_token_type_ids=False,\n",
    "    pad_to_max_length=True,\n",
    "    return_attention_mask=True,\n",
    "    return_tensors='pt',  # Return PyTorch tensors\n",
    ")\n",
    "\n",
    "encoding.keys()"
   ]
  },
  {
   "cell_type": "code",
   "execution_count": null,
   "id": "jV62Ryn8HMeI",
   "metadata": {
    "id": "jV62Ryn8HMeI"
   },
   "outputs": [],
   "source": [
    "class TweetsDataset(Dataset):\n",
    "\n",
    "  def __init__(self, tweets, targets, tokenizer, max_len):\n",
    "    self.tweets = tweets\n",
    "    self.targets = targets\n",
    "    self.tokenizer = tokenizer\n",
    "    self.max_len = max_len\n",
    "  \n",
    "  def __len__(self):\n",
    "    return len(self.tweets)\n",
    "  \n",
    "  def __getitem__(self, item):\n",
    "    tweet = str(self.tweets[item])\n",
    "    target = self.targets[item]\n",
    "\n",
    "    encoding = self.tokenizer.encode_plus(\n",
    "      tweet,\n",
    "      add_special_tokens=True,\n",
    "      max_length=self.max_len,\n",
    "      return_token_type_ids=False,\n",
    "      pad_to_max_length=True,\n",
    "      return_attention_mask=True,\n",
    "      return_tensors='pt',\n",
    "    )\n",
    "\n",
    "    return {\n",
    "      'tweet_text': tweet,\n",
    "      'input_ids': encoding['input_ids'].flatten(),\n",
    "      'attention_mask': encoding['attention_mask'].flatten(),\n",
    "      'targets': torch.tensor(target, dtype=torch.long)\n",
    "    }"
   ]
  },
  {
   "cell_type": "code",
   "execution_count": null,
   "id": "8hPBlz4_HORS",
   "metadata": {
    "colab": {
     "base_uri": "https://localhost:8080/"
    },
    "id": "8hPBlz4_HORS",
    "outputId": "f6ef8078-5652-4a77-f903-5d1221a61c13"
   },
   "outputs": [
    {
     "data": {
      "text/plain": [
       "((160000, 8), (20000, 8), (20000, 8))"
      ]
     },
     "execution_count": 180,
     "metadata": {},
     "output_type": "execute_result"
    }
   ],
   "source": [
    "df_train, df_test = train_test_split(df, test_size=0.2, random_state=RANDOM_SEED)\n",
    "df_val, df_test = train_test_split(df_test, test_size=0.5, random_state=RANDOM_SEED)\n",
    "\n",
    "df_train.shape, df_val.shape, df_test.shape"
   ]
  },
  {
   "cell_type": "code",
   "execution_count": null,
   "id": "H9Zx88xdHiuJ",
   "metadata": {
    "colab": {
     "base_uri": "https://localhost:8080/"
    },
    "id": "H9Zx88xdHiuJ",
    "outputId": "d3c27af3-2a5e-4f91-945d-14aee72e4973"
   },
   "outputs": [
    {
     "data": {
      "text/plain": [
       "dict_keys(['tweet_text', 'input_ids', 'attention_mask', 'targets'])"
      ]
     },
     "execution_count": 182,
     "metadata": {},
     "output_type": "execute_result"
    }
   ],
   "source": [
    "def create_data_loader(df, tokenizer, max_len, batch_size):\n",
    "    ds = TweetsDataset(\n",
    "        tweets=df.cleaned_tweets.to_numpy(),\n",
    "        targets=df.target.to_numpy(),\n",
    "        tokenizer=tokenizer,\n",
    "        max_len=max_len)\n",
    "\n",
    "    return DataLoader(\n",
    "    ds,\n",
    "    batch_size=batch_size,\n",
    "    num_workers=4)\n",
    "\n",
    "\n",
    "BATCH_SIZE = 256\n",
    "MAX_LEN = 32\n",
    "\n",
    "train_data_loader = create_data_loader(df_train, tokenizer, MAX_LEN, BATCH_SIZE)\n",
    "val_data_loader = create_data_loader(df_val, tokenizer, MAX_LEN, BATCH_SIZE)\n",
    "test_data_loader = create_data_loader(df_test, tokenizer, MAX_LEN, BATCH_SIZE)\n",
    "\n",
    "data = next(iter(train_data_loader))\n",
    "data.keys()"
   ]
  },
  {
   "cell_type": "code",
   "execution_count": null,
   "id": "nFbP3t93Ih2c",
   "metadata": {
    "colab": {
     "base_uri": "https://localhost:8080/"
    },
    "id": "nFbP3t93Ih2c",
    "outputId": "821ef9dc-b9b2-483f-f994-2f85bbfaaea3"
   },
   "outputs": [
    {
     "name": "stdout",
     "output_type": "stream",
     "text": [
      "torch.Size([256, 32])\n",
      "torch.Size([256, 32])\n",
      "torch.Size([256])\n"
     ]
    }
   ],
   "source": [
    "print(data['input_ids'].shape)\n",
    "print(data['attention_mask'].shape)\n",
    "print(data['targets'].shape)"
   ]
  },
  {
   "cell_type": "code",
   "execution_count": null,
   "id": "-txUDQ3HJ6KN",
   "metadata": {
    "id": "-txUDQ3HJ6KN"
   },
   "outputs": [],
   "source": [
    "# bert_model = BertModel.from_pretrained(PRE_TRAINED_MODEL_NAME)\n",
    "bert_model = model\n",
    "\n",
    "last_hidden_state, pooled_output = bert_model(\n",
    "  input_ids=encoding['input_ids'], \n",
    "  attention_mask=encoding['attention_mask'],\n",
    "  return_dict=False\n",
    ")"
   ]
  },
  {
   "cell_type": "code",
   "execution_count": null,
   "id": "qKVkBO24QZ2J",
   "metadata": {
    "id": "qKVkBO24QZ2J"
   },
   "outputs": [],
   "source": [
    "class SentimentClassifier(nn.Module):\n",
    "\n",
    "  def __init__(self, n_classes, bert_model):\n",
    "    super(SentimentClassifier, self).__init__()\n",
    "    self.bert = bert_model\n",
    "    self.drop = nn.Dropout(p=0.5)\n",
    "    self.out = nn.Linear(self.bert.config.hidden_size, n_classes)\n",
    "  \n",
    "  def forward(self, input_ids, attention_mask):\n",
    "    _, pooled_output = self.bert(\n",
    "      input_ids=input_ids,\n",
    "      attention_mask=attention_mask,\n",
    "      return_dict=False\n",
    "    )\n",
    "    output = self.drop(pooled_output)\n",
    "    return self.out(output)"
   ]
  },
  {
   "cell_type": "code",
   "execution_count": null,
   "id": "dc46cabQRSz6",
   "metadata": {
    "colab": {
     "base_uri": "https://localhost:8080/"
    },
    "id": "dc46cabQRSz6",
    "outputId": "7b548fdb-e8dd-4ba6-8b78-805be4463667"
   },
   "outputs": [
    {
     "name": "stdout",
     "output_type": "stream",
     "text": [
      "torch.Size([256, 32])\n",
      "torch.Size([256, 32])\n"
     ]
    }
   ],
   "source": [
    "model = SentimentClassifier(n_classes=len(df.target.unique()), bert_model=bert_model)\n",
    "model = model.to(device)\n",
    "\n",
    "input_ids = data['input_ids'].to(device)\n",
    "attention_mask = data['attention_mask'].to(device)\n",
    "\n",
    "print(input_ids.shape) # batch size x seq length\n",
    "print(attention_mask.shape) # batch size x seq length"
   ]
  },
  {
   "cell_type": "code",
   "execution_count": null,
   "id": "ohUXZyt8R4mE",
   "metadata": {
    "id": "ohUXZyt8R4mE"
   },
   "outputs": [],
   "source": [
    "EPOCHS = 10\n",
    "\n",
    "optimizer = AdamW(model.parameters(), lr=2e-5, correct_bias=False)\n",
    "total_steps = len(train_data_loader) * EPOCHS\n",
    "\n",
    "scheduler = get_linear_schedule_with_warmup(\n",
    "  optimizer,\n",
    "  num_warmup_steps=0,\n",
    "  num_training_steps=total_steps\n",
    ")\n",
    "\n",
    "loss_fn = nn.CrossEntropyLoss().to(device)"
   ]
  },
  {
   "cell_type": "code",
   "execution_count": null,
   "id": "Se6jEt-PR5az",
   "metadata": {
    "id": "Se6jEt-PR5az"
   },
   "outputs": [],
   "source": [
    "def train_epoch(\n",
    "  model, \n",
    "  data_loader, \n",
    "  loss_fn, \n",
    "  optimizer, \n",
    "  device, \n",
    "  scheduler, \n",
    "  n_examples\n",
    "):\n",
    "  model = model.train()\n",
    "\n",
    "  losses = []\n",
    "  correct_predictions = 0\n",
    "  \n",
    "  for d in data_loader:\n",
    "    input_ids = d[\"input_ids\"].to(device)\n",
    "    attention_mask = d[\"attention_mask\"].to(device)\n",
    "    targets = d[\"targets\"].to(device)\n",
    "\n",
    "    outputs = model(\n",
    "      input_ids=input_ids,\n",
    "      attention_mask=attention_mask\n",
    "    )\n",
    "\n",
    "    _, preds = torch.max(outputs, dim=1)\n",
    "    loss = loss_fn(outputs, targets)\n",
    "\n",
    "    correct_predictions += torch.sum(preds == targets)\n",
    "    losses.append(loss.item())\n",
    "\n",
    "    loss.backward()\n",
    "    nn.utils.clip_grad_norm_(model.parameters(), max_norm=1.0)\n",
    "    optimizer.step()\n",
    "    scheduler.step()\n",
    "    optimizer.zero_grad()\n",
    "\n",
    "  return correct_predictions.double() / n_examples, np.mean(losses)"
   ]
  },
  {
   "cell_type": "code",
   "execution_count": null,
   "id": "CEfKw-2BR7ll",
   "metadata": {
    "id": "CEfKw-2BR7ll"
   },
   "outputs": [],
   "source": [
    "def eval_model(model, data_loader, loss_fn, device, n_examples):\n",
    "  model = model.to(device)\n",
    "  model = model.eval()\n",
    "\n",
    "  losses = []\n",
    "  correct_predictions = 0\n",
    "\n",
    "  with torch.no_grad():\n",
    "    for d in data_loader:\n",
    "      input_ids = d[\"input_ids\"].to(device)\n",
    "      attention_mask = d[\"attention_mask\"].to(device)\n",
    "      targets = d[\"targets\"].to(device)\n",
    "      \n",
    "\n",
    "      outputs = model(\n",
    "        input_ids=input_ids,\n",
    "        attention_mask=attention_mask\n",
    "      )\n",
    "\n",
    "      _, preds = torch.max(outputs, dim=1)\n",
    "      \n",
    "\n",
    "      loss = loss_fn(outputs, targets)\n",
    "\n",
    "      correct_predictions += torch.sum(preds == targets)\n",
    "      losses.append(loss.item())\n",
    "\n",
    "  return correct_predictions.double() / n_examples, np.mean(losses)"
   ]
  },
  {
   "cell_type": "code",
   "execution_count": null,
   "id": "uHHjEWS-SCnN",
   "metadata": {
    "colab": {
     "base_uri": "https://localhost:8080/"
    },
    "id": "uHHjEWS-SCnN",
    "outputId": "6c611622-f076-4aad-b785-bb9934052fcc"
   },
   "outputs": [
    {
     "name": "stdout",
     "output_type": "stream",
     "text": [
      "Epoch 1/10\n",
      "----------\n",
      "Train loss 0.542478877544403 accuracy 0.716325\n",
      "Val   loss 0.49829623404937456 accuracy 0.7566\n",
      "\n",
      "Epoch 2/10\n",
      "----------\n",
      "Train loss 0.47834808797836303 accuracy 0.77000625\n",
      "Val   loss 0.48865278272689144 accuracy 0.7624000000000001\n",
      "\n",
      "Epoch 3/10\n",
      "----------\n",
      "Train loss 0.4611141904354095 accuracy 0.7812375\n",
      "Val   loss 0.48937261293206036 accuracy 0.7635000000000001\n",
      "\n",
      "Epoch 4/10\n",
      "----------\n",
      "Train loss 0.448864683675766 accuracy 0.7891250000000001\n",
      "Val   loss 0.4930602704422383 accuracy 0.7641\n",
      "\n",
      "Epoch 5/10\n",
      "----------\n",
      "Train loss 0.4389632164478302 accuracy 0.79505\n",
      "Val   loss 0.49453792956810966 accuracy 0.7618\n",
      "\n",
      "Epoch 6/10\n",
      "----------\n",
      "Train loss 0.43057059297561645 accuracy 0.80025\n",
      "Val   loss 0.49850953040243706 accuracy 0.7624500000000001\n",
      "\n",
      "Epoch 7/10\n",
      "----------\n",
      "Train loss 0.42385883007049563 accuracy 0.80464375\n",
      "Val   loss 0.5031617521485195 accuracy 0.7615500000000001\n",
      "\n",
      "Epoch 8/10\n",
      "----------\n",
      "Train loss 0.41692423758506775 accuracy 0.80895625\n",
      "Val   loss 0.5083382371105726 accuracy 0.7615500000000001\n",
      "\n",
      "Epoch 9/10\n",
      "----------\n",
      "Train loss 0.41174539885520933 accuracy 0.81161875\n",
      "Val   loss 0.5110434116441992 accuracy 0.7597\n",
      "\n",
      "Epoch 10/10\n",
      "----------\n",
      "Train loss 0.40769476118087766 accuracy 0.81414375\n",
      "Val   loss 0.5141229222092447 accuracy 0.75885\n",
      "\n",
      "CPU times: user 18min 32s, sys: 10.3 s, total: 18min 43s\n",
      "Wall time: 20min 28s\n"
     ]
    }
   ],
   "source": [
    "%%time\n",
    "\n",
    "history = defaultdict(list)\n",
    "best_accuracy = 0\n",
    "\n",
    "for epoch in range(EPOCHS):\n",
    "\n",
    "  print(f'Epoch {epoch + 1}/{EPOCHS}')\n",
    "  print('-' * 10)\n",
    "\n",
    "  train_acc, train_loss = train_epoch(\n",
    "    model,\n",
    "    train_data_loader,    \n",
    "    loss_fn, \n",
    "    optimizer, \n",
    "    device, \n",
    "    scheduler, \n",
    "    len(df_train)\n",
    "  )\n",
    "\n",
    "  print(f'Train loss {train_loss} accuracy {train_acc}')\n",
    "\n",
    "  val_acc, val_loss = eval_model(\n",
    "    model,\n",
    "    val_data_loader,\n",
    "    loss_fn, \n",
    "    device, \n",
    "    len(df_val)\n",
    "  )\n",
    "\n",
    "  print(f'Val   loss {val_loss} accuracy {val_acc}')\n",
    "  print()\n",
    "\n",
    "  history['train_acc'].append(train_acc)\n",
    "  history['train_loss'].append(train_loss)\n",
    "  history['val_acc'].append(val_acc)\n",
    "  history['val_loss'].append(val_loss)\n",
    "\n",
    "  if val_acc > best_accuracy:\n",
    "    torch.save(model.state_dict(), 'best_model_state.bin')\n",
    "    best_accuracy = val_acc"
   ]
  },
  {
   "cell_type": "code",
   "execution_count": null,
   "id": "BJKWqWrBSIxd",
   "metadata": {
    "colab": {
     "base_uri": "https://localhost:8080/",
     "height": 523
    },
    "id": "BJKWqWrBSIxd",
    "outputId": "d0098078-99a6-4bae-c5f8-1abf1b8bcef2"
   },
   "outputs": [
    {
     "data": {
      "image/png": "[encoded data removed]",
      "text/plain": [
       "<Figure size 864x576 with 1 Axes>"
      ]
     },
     "metadata": {
      "image/png": {
       "height": 506,
       "width": 732
      }
     },
     "output_type": "display_data"
    }
   ],
   "source": [
    "train_acc = [history['train_acc'][i].item() for i in range(len(history[\"train_acc\"]))]\n",
    "val_acc = [history['val_acc'][i].item() for i in range(len(history[\"val_acc\"]))] \n",
    "\n",
    "plt.plot(train_acc, label='train accuracy')\n",
    "plt.plot(val_acc, label='validation accuracy')\n",
    "\n",
    "plt.title('Training history')\n",
    "plt.ylabel('Accuracy')\n",
    "plt.xlabel('Epoch')\n",
    "plt.legend()\n",
    "plt.ylim([0, 1]);"
   ]
  },
  {
   "cell_type": "code",
   "execution_count": null,
   "id": "UFw7KhcJFmhv",
   "metadata": {
    "colab": {
     "base_uri": "https://localhost:8080/"
    },
    "id": "UFw7KhcJFmhv",
    "outputId": "9eb79957-c7b8-4fae-a2b4-4e2f72cb3419"
   },
   "outputs": [
    {
     "data": {
      "text/plain": [
       "0.7643500000000001"
      ]
     },
     "execution_count": 193,
     "metadata": {},
     "output_type": "execute_result"
    }
   ],
   "source": [
    "ldft = len(df_test)\n",
    "device = \"cuda\"\n",
    "\n",
    "test_acc, _ = eval_model(\n",
    "  model,\n",
    "  test_data_loader,\n",
    "  loss_fn,\n",
    "  device,\n",
    "  ldft,\n",
    ")\n",
    "\n",
    "test_acc.item()"
   ]
  }
 ],
 "metadata": {
  "accelerator": "GPU",
  "colab": {
   "collapsed_sections": [],
   "name": "HW4.ipynb",
   "provenance": []
  },
  "gpuClass": "standard",
  "kernelspec": {
   "display_name": "Python 3 (ipykernel)",
   "language": "python",
   "name": "python3"
  },
  "language_info": {
   "codemirror_mode": {
    "name": "ipython",
    "version": 3
   },
   "file_extension": ".py",
   "mimetype": "text/x-python",
   "name": "python",
   "nbconvert_exporter": "python",
   "pygments_lexer": "ipython3",
   "version": "3.9.12"
  }
 },
 "nbformat": 4,
 "nbformat_minor": 5
}
