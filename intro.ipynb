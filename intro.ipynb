{
 "cells": [
  {
   "cell_type": "code",
   "execution_count": 3,
   "metadata": {},
   "outputs": [],
   "source": [
    "import numpy as np\n",
    "import pandas as pd\n",
    "import os"
   ]
  },
  {
   "cell_type": "code",
   "execution_count": 8,
   "metadata": {},
   "outputs": [
    {
     "name": "stdout",
     "output_type": "stream",
     "text": [
      "nvidia.xlsx: (2010, 19)\n",
      "Meta.xlsx: (1644, 19)\n",
      "Google.xlsx: (2051, 19)\n",
      "Twitter.xlsx: (1616, 19)\n",
      "metaverse.xlsx: (1553, 19)\n",
      "Microsoft.xlsx: (2080, 19)\n",
      "facebook.xlsx: (2027, 19)\n",
      "spaceX.xlsx: (2010, 19)\n",
      "WWDC.xlsx: (2080, 19)\n",
      "instagram.xlsx: (1949, 19)\n",
      "Amazon.xlsx: (2078, 19)\n",
      "Apple.xlsx: (2031, 19)\n",
      "Tesla.xlsx: (2004, 19)\n"
     ]
    }
   ],
   "source": [
    "for file in os.listdir(\"./Hashtags\"):\n",
    "    df = pd.read_excel(os.path.join(\"./Hashtags\", file))\n",
    "    print(file, end=\": \")\n",
    "    print(df.shape)"
   ]
  },
  {
   "cell_type": "code",
   "execution_count": null,
   "metadata": {},
   "outputs": [],
   "source": []
  }
 ],
 "metadata": {
  "kernelspec": {
   "display_name": "Python 3",
   "language": "python",
   "name": "python3"
  },
  "language_info": {
   "codemirror_mode": {
    "name": "ipython",
    "version": 3
   },
   "file_extension": ".py",
   "mimetype": "text/x-python",
   "name": "python",
   "nbconvert_exporter": "python",
   "pygments_lexer": "ipython3",
   "version": "3.7.4"
  }
 },
 "nbformat": 4,
 "nbformat_minor": 2
}
