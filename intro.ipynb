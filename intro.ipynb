{
 "cells": [
  {
   "cell_type": "code",
   "execution_count": 1,
   "metadata": {
    "pycharm": {
     "name": "#%%\n"
    }
   },
   "outputs": [
    {
     "name": "stdout",
     "output_type": "stream",
     "text": [
      "Requirement already satisfied: numpy in /Users/kian/opt/anaconda3/lib/python3.9/site-packages (1.21.5)\n",
      "Requirement already satisfied: pandas in /Users/kian/opt/anaconda3/lib/python3.9/site-packages (1.4.2)\n",
      "Requirement already satisfied: python-dateutil>=2.8.1 in /Users/kian/opt/anaconda3/lib/python3.9/site-packages (from pandas) (2.8.2)\n",
      "Requirement already satisfied: pytz>=2020.1 in /Users/kian/opt/anaconda3/lib/python3.9/site-packages (from pandas) (2021.3)\n",
      "Requirement already satisfied: numpy>=1.18.5 in /Users/kian/opt/anaconda3/lib/python3.9/site-packages (from pandas) (1.21.5)\n",
      "Requirement already satisfied: six>=1.5 in /Users/kian/opt/anaconda3/lib/python3.9/site-packages (from python-dateutil>=2.8.1->pandas) (1.16.0)\n",
      "Requirement already satisfied: openpyxl in /Users/kian/opt/anaconda3/lib/python3.9/site-packages (3.0.9)\n",
      "Requirement already satisfied: et-xmlfile in /Users/kian/opt/anaconda3/lib/python3.9/site-packages (from openpyxl) (1.1.0)\n",
      "Requirement already satisfied: nltk in /Users/kian/opt/anaconda3/lib/python3.9/site-packages (3.7)\n",
      "Requirement already satisfied: joblib in /Users/kian/opt/anaconda3/lib/python3.9/site-packages (from nltk) (1.1.0)\n",
      "Requirement already satisfied: regex>=2021.8.3 in /Users/kian/opt/anaconda3/lib/python3.9/site-packages (from nltk) (2022.3.15)\n",
      "Requirement already satisfied: click in /Users/kian/opt/anaconda3/lib/python3.9/site-packages (from nltk) (8.0.4)\n",
      "Requirement already satisfied: tqdm in /Users/kian/opt/anaconda3/lib/python3.9/site-packages (from nltk) (4.64.0)\n",
      "Collecting sklearn\n",
      "  Downloading sklearn-0.0.tar.gz (1.1 kB)\n",
      "Requirement already satisfied: scikit-learn in /Users/kian/opt/anaconda3/lib/python3.9/site-packages (from sklearn) (1.0.2)\n",
      "Requirement already satisfied: numpy>=1.14.6 in /Users/kian/opt/anaconda3/lib/python3.9/site-packages (from scikit-learn->sklearn) (1.21.5)\n",
      "Requirement already satisfied: threadpoolctl>=2.0.0 in /Users/kian/opt/anaconda3/lib/python3.9/site-packages (from scikit-learn->sklearn) (2.2.0)\n",
      "Requirement already satisfied: scipy>=1.1.0 in /Users/kian/opt/anaconda3/lib/python3.9/site-packages (from scikit-learn->sklearn) (1.7.3)\n",
      "Requirement already satisfied: joblib>=0.11 in /Users/kian/opt/anaconda3/lib/python3.9/site-packages (from scikit-learn->sklearn) (1.1.0)\n",
      "Building wheels for collected packages: sklearn\n",
      "  Building wheel for sklearn (setup.py) ... \u001b[?25ldone\n",
      "\u001b[?25h  Created wheel for sklearn: filename=sklearn-0.0-py2.py3-none-any.whl size=1310 sha256=baff7cbb888008097684a519882713e43ba4a4b29751332529ef3da00bc11b22\n",
      "  Stored in directory: /Users/kian/Library/Caches/pip/wheels/e4/7b/98/b6466d71b8d738a0c547008b9eb39bf8676d1ff6ca4b22af1c\n",
      "Successfully built sklearn\n",
      "Installing collected packages: sklearn\n",
      "Successfully installed sklearn-0.0\n",
      "Collecting fasttext\n",
      "  Downloading fasttext-0.9.2.tar.gz (68 kB)\n",
      "\u001b[K     |████████████████████████████████| 68 kB 600 kB/s eta 0:00:01\n",
      "\u001b[?25hCollecting pybind11>=2.2\n",
      "  Using cached pybind11-2.9.2-py2.py3-none-any.whl (213 kB)\n",
      "Requirement already satisfied: setuptools>=0.7.0 in /Users/kian/opt/anaconda3/lib/python3.9/site-packages (from fasttext) (61.2.0)\n",
      "Requirement already satisfied: numpy in /Users/kian/opt/anaconda3/lib/python3.9/site-packages (from fasttext) (1.21.5)\n",
      "Building wheels for collected packages: fasttext\n",
      "  Building wheel for fasttext (setup.py) ... \u001b[?25ldone\n",
      "\u001b[?25h  Created wheel for fasttext: filename=fasttext-0.9.2-cp39-cp39-macosx_10_16_x86_64.whl size=301114 sha256=6e5bbbf50b56f9091502baa5be36034af5450f5890d46da814960b74a0cb5ad5\n",
      "  Stored in directory: /Users/kian/Library/Caches/pip/wheels/64/57/bc/1741406019061d5664914b070bd3e71f6244648732bc96109e\n",
      "Successfully built fasttext\n",
      "Installing collected packages: pybind11, fasttext\n",
      "Successfully installed fasttext-0.9.2 pybind11-2.9.2\n"
     ]
    }
   ],
   "source": [
    "!pip install numpy\n",
    "!pip install pandas\n",
    "!pip install openpyxl\n",
    "!pip install nltk\n",
    "!pip install sklearn\n",
    "!pip install fasttext"
   ]
  },
  {
   "cell_type": "code",
   "execution_count": 2,
   "metadata": {},
   "outputs": [
    {
     "name": "stderr",
     "output_type": "stream",
     "text": [
      "[nltk_data] Downloading package punkt to /Users/kian/nltk_data...\n",
      "[nltk_data]   Package punkt is already up-to-date!\n",
      "[nltk_data] Downloading package stopwords to /Users/kian/nltk_data...\n",
      "[nltk_data]   Package stopwords is already up-to-date!\n"
     ]
    },
    {
     "data": {
      "text/plain": [
       "True"
      ]
     },
     "execution_count": 2,
     "metadata": {},
     "output_type": "execute_result"
    }
   ],
   "source": [
    "import os\n",
    "import numpy as np\n",
    "import nltk\n",
    "import pandas as pd\n",
    "\n",
    "nltk.download('punkt')\n",
    "nltk.download('stopwords')"
   ]
  },
  {
   "cell_type": "code",
   "execution_count": 20,
   "metadata": {},
   "outputs": [
    {
     "name": "stdout",
     "output_type": "stream",
     "text": [
      "science.xlsx: (2080, 19)\n",
      "nvidia.xlsx: (2010, 19)\n",
      "Meta.xlsx: (1644, 19)\n",
      "Google.xlsx: (2051, 19)\n",
      "robots.xlsx: (1982, 19)\n",
      "Twitter.xlsx: (1616, 19)\n",
      "metaverse.xlsx: (1553, 19)\n",
      "Microsoft.xlsx: (2080, 19)\n",
      "facebook.xlsx: (2027, 19)\n",
      "spaceX.xlsx: (2010, 19)\n",
      "WWDC.xlsx: (2080, 19)\n",
      "tech.xlsx: (2076, 19)\n",
      "instagram.xlsx: (1949, 19)\n",
      "Amazon.xlsx: (2078, 19)\n",
      "Apple.xlsx: (2031, 19)\n",
      "Tesla.xlsx: (2004, 19)\n"
     ]
    }
   ],
   "source": [
    "dfs = []\n",
    "for file in os.listdir(\"./Excels\"):\n",
    "    df = pd.read_excel(os.path.join(\"./Excels\", file))\n",
    "    dfs.append(df)\n",
    "    print(file, end=\": \")\n",
    "    print(df.shape)\n",
    "df = pd.concat(dfs)"
   ]
  },
  {
   "cell_type": "code",
   "execution_count": 21,
   "metadata": {},
   "outputs": [
    {
     "data": {
      "text/plain": [
       "(Index(['Tweet Id', 'Text', 'Name', 'Screen Name', 'UTC', 'Created At',\n",
       "        'Favorites', 'Retweets', 'Language', 'Client', 'Tweet Type', 'URLs',\n",
       "        'Hashtags', 'Mentions', 'Media Type', 'Media URLs', 'Unnamed: 16',\n",
       "        'Unnamed: 17', 'Unnamed: 18'],\n",
       "       dtype='object'),\n",
       " (31271, 19))"
      ]
     },
     "execution_count": 21,
     "metadata": {},
     "output_type": "execute_result"
    }
   ],
   "source": [
    "df.columns, df.shape"
   ]
  },
  {
   "cell_type": "code",
   "execution_count": 22,
   "metadata": {
    "pycharm": {
     "name": "#%%\n"
    }
   },
   "outputs": [],
   "source": [
    "df = df[df['Language'] == 'en']\n",
    "df.reset_index(drop=True, inplace=True)"
   ]
  },
  {
   "cell_type": "code",
   "execution_count": 23,
   "metadata": {},
   "outputs": [],
   "source": [
    "df.drop_duplicates(subset=\"Text\", keep='first', inplace=True, ignore_index=False)"
   ]
  },
  {
   "cell_type": "code",
   "execution_count": 24,
   "metadata": {},
   "outputs": [
    {
     "name": "stdout",
     "output_type": "stream",
     "text": [
      "<class 'pandas.core.frame.DataFrame'>\n",
      "Int64Index: 12665 entries, 0 to 21001\n",
      "Data columns (total 19 columns):\n",
      " #   Column       Non-Null Count  Dtype \n",
      "---  ------       --------------  ----- \n",
      " 0   Tweet Id     12665 non-null  int64 \n",
      " 1   Text         12665 non-null  object\n",
      " 2   Name         12665 non-null  object\n",
      " 3   Screen Name  12665 non-null  object\n",
      " 4   UTC          12665 non-null  object\n",
      " 5   Created At   12665 non-null  object\n",
      " 6   Favorites    12665 non-null  int64 \n",
      " 7   Retweets     12665 non-null  int64 \n",
      " 8   Language     12665 non-null  object\n",
      " 9   Client       12665 non-null  object\n",
      " 10  Tweet Type   12665 non-null  object\n",
      " 11  URLs         7151 non-null   object\n",
      " 12  Hashtags     12665 non-null  int64 \n",
      " 13  Mentions     12665 non-null  int64 \n",
      " 14  Media Type   5619 non-null   object\n",
      " 15  Media URLs   5619 non-null   object\n",
      " 16  Unnamed: 16  598 non-null    object\n",
      " 17  Unnamed: 17  379 non-null    object\n",
      " 18  Unnamed: 18  244 non-null    object\n",
      "dtypes: int64(5), object(14)\n",
      "memory usage: 1.9+ MB\n"
     ]
    }
   ],
   "source": [
    "df.info()"
   ]
  },
  {
   "cell_type": "code",
   "execution_count": 25,
   "metadata": {
    "pycharm": {
     "name": "#%%\n"
    }
   },
   "outputs": [],
   "source": [
    "from nltk.corpus import stopwords\n",
    "import re\n",
    "def text_to_words(text):\n",
    "    text = text.lower()\n",
    "    text = re.sub(\n",
    "    \"(https?://(?:www\\.|(?!www))[a-zA-Z0-9][a-zA-Z0-9-]+[a-zA-Z0-9]\\.[^\\s]{2,}|www\\.[a-zA-Z0-9][a-zA-Z0-9-]+[a-zA-Z0-9]\\.[^\\s]{2,}|https?://(?:www\\.|(?!www))[a-zA-Z0-9]+\\.[^\\s]{2,}|www\\.[a-zA-Z0-9]+\\.[^\\s]{2,})\",\n",
    "    \"\", text)\n",
    "    text = re.sub(\"#\\w+\", \"\", text)\n",
    "    text = re.sub(\"@\\w+\", \"\", text)\n",
    "    words = nltk.word_tokenize(text)\n",
    "    words = [word for word in words if word not in stopwords.words('english') and word.isalpha()]\n",
    "    return words\n",
    "df['Text_words'] = df['Text'].apply(text_to_words)"
   ]
  },
  {
   "cell_type": "code",
   "execution_count": 26,
   "metadata": {
    "pycharm": {
     "name": "#%%\n"
    }
   },
   "outputs": [
    {
     "data": {
      "text/plain": [
       "[('rt', 3921),\n",
       " ('new', 1034),\n",
       " ('amp', 999),\n",
       " ('science', 972),\n",
       " ('robots', 768),\n",
       " ('us', 677),\n",
       " ('like', 547),\n",
       " ('apple', 513),\n",
       " ('gt', 492),\n",
       " ('via', 484),\n",
       " ('first', 473),\n",
       " ('time', 469),\n",
       " ('get', 468),\n",
       " ('one', 440),\n",
       " ('rtx', 416),\n",
       " ('tesla', 414),\n",
       " ('video', 367),\n",
       " ('geforce', 364),\n",
       " ('model', 316),\n",
       " ('free', 311)]"
      ]
     },
     "execution_count": 26,
     "metadata": {},
     "output_type": "execute_result"
    }
   ],
   "source": [
    "nltk.FreqDist(df['Text_words'].explode()).most_common(20)"
   ]
  },
  {
   "cell_type": "code",
   "execution_count": 30,
   "metadata": {
    "pycharm": {
     "name": "#%%\n"
    }
   },
   "outputs": [],
   "source": [
    "import pandas as pd\n",
    "import numpy as np\n",
    "import re\n",
    "from sklearn.feature_extraction.text import TfidfVectorizer\n",
    "\n",
    "class TFIDFSearch:\n",
    "    def __init__(self):\n",
    "        self.vocabulary = list(set(df['Text_words'].explode()) - {np.nan})\n",
    "\n",
    "        self.tfidf = TfidfVectorizer(vocabulary=self.vocabulary)\n",
    "        self.tfidf_tran=self.tfidf.fit_transform(df['Text_words'].apply(lambda x: ' '.join(x)))\n",
    "\n",
    "    def get_vector(self, tokens):\n",
    "        result = np.zeros((len(self.vocabulary)))\n",
    "        x= self.tfidf.transform(tokens)\n",
    "        for token in tokens:\n",
    "            try:\n",
    "                ind = self.vocabulary.index(token)\n",
    "                result[ind]  = x[0, self.tfidf.vocabulary_[token]]\n",
    "            except Exception as e:\n",
    "                print(e)\n",
    "                pass\n",
    "        return result\n",
    "\n",
    "    @staticmethod\n",
    "    def cosine_sim(a, b):\n",
    "        norm_a = np.linalg.norm(a)\n",
    "        norm_b = np.linalg.norm(b)\n",
    "        if norm_a == 0 or norm_b == 0:\n",
    "            return 0\n",
    "        cos_sim = np.dot(a, b)/(norm_a*norm_b)\n",
    "        return cos_sim\n",
    "\n",
    "    def search(self, k, query):\n",
    "        tokens = text_to_words(query)\n",
    "        print(tokens)\n",
    "        q_df = pd.DataFrame(columns=['q_clean'])\n",
    "        q_df.loc[0, 'q_clean'] = tokens\n",
    "\n",
    "        d_cosines = []\n",
    "\n",
    "        query_vector = self.get_vector(tokens)\n",
    "        for d in self.tfidf_tran.A:\n",
    "            d_cosines.append(self.cosine_sim(query_vector, d))\n",
    "\n",
    "        out = np.array(d_cosines).argsort()[-k:][::-1]\n",
    "        a = pd.DataFrame()\n",
    "        for i, index in enumerate(out):\n",
    "            a.loc[i, 'index'] = str(index)\n",
    "            a.loc[i, 'text'] = df.iloc[index]['Text']\n",
    "            a.loc[i, 'words'] = str(df.iloc[index]['Text_words'])\n",
    "            a.loc[i, 'Score'] = d_cosines[int(index)]\n",
    "        return a"
   ]
  },
  {
   "cell_type": "code",
   "execution_count": 31,
   "metadata": {
    "pycharm": {
     "name": "#%%\n"
    }
   },
   "outputs": [
    {
     "name": "stderr",
     "output_type": "stream",
     "text": [
      "/Users/kian/opt/anaconda3/lib/python3.9/site-packages/sklearn/feature_extraction/text.py:1322: UserWarning: Upper case characters found in vocabulary while 'lowercase' is True. These entries will not be matched with any documents\n",
      "  warnings.warn(\n"
     ]
    },
    {
     "name": "stdout",
     "output_type": "stream",
     "text": [
      "['elon', 'musk']\n"
     ]
    },
    {
     "data": {
      "text/html": [
       "<div>\n",
       "<style scoped>\n",
       "    .dataframe tbody tr th:only-of-type {\n",
       "        vertical-align: middle;\n",
       "    }\n",
       "\n",
       "    .dataframe tbody tr th {\n",
       "        vertical-align: top;\n",
       "    }\n",
       "\n",
       "    .dataframe thead th {\n",
       "        text-align: right;\n",
       "    }\n",
       "</style>\n",
       "<table border=\"1\" class=\"dataframe\">\n",
       "  <thead>\n",
       "    <tr style=\"text-align: right;\">\n",
       "      <th></th>\n",
       "      <th>index</th>\n",
       "      <th>text</th>\n",
       "      <th>words</th>\n",
       "      <th>Score</th>\n",
       "    </tr>\n",
       "  </thead>\n",
       "  <tbody>\n",
       "    <tr>\n",
       "      <th>0</th>\n",
       "      <td>7323</td>\n",
       "      <td>@SpaceX + @DogelonMars = 🚀\\n\\n@elonmusk  Don't...</td>\n",
       "      <td>['elon']</td>\n",
       "      <td>1.000000</td>\n",
       "    </tr>\n",
       "    <tr>\n",
       "      <th>1</th>\n",
       "      <td>7319</td>\n",
       "      <td>RT @ElonMartians : @SpaceX + @DogelonMars = 🚀\\...</td>\n",
       "      <td>['rt', 'elon']</td>\n",
       "      <td>0.924041</td>\n",
       "    </tr>\n",
       "    <tr>\n",
       "      <th>2</th>\n",
       "      <td>12610</td>\n",
       "      <td>@elonmusk @elonamuskjet @ElonMuskNewsOrg @Tesl...</td>\n",
       "      <td>['elon', 'spacex']</td>\n",
       "      <td>0.688690</td>\n",
       "    </tr>\n",
       "    <tr>\n",
       "      <th>3</th>\n",
       "      <td>7542</td>\n",
       "      <td>RT @Dyoungelonhero : Elon,Send #GalaxyHeroes t...</td>\n",
       "      <td>['rt', 'elon', 'send']</td>\n",
       "      <td>0.620838</td>\n",
       "    </tr>\n",
       "    <tr>\n",
       "      <th>4</th>\n",
       "      <td>7523</td>\n",
       "      <td>In Elon We Trust! ❤️🙏🏼  #dogecoin #tesla #Spac...</td>\n",
       "      <td>['elon', 'trust']</td>\n",
       "      <td>0.597168</td>\n",
       "    </tr>\n",
       "    <tr>\n",
       "      <th>5</th>\n",
       "      <td>11895</td>\n",
       "      <td>Could Elon Musk be a thief? Elon Musk why don'...</td>\n",
       "      <td>['could', 'elon', 'musk', 'thief', 'elon', 'mu...</td>\n",
       "      <td>0.516056</td>\n",
       "    </tr>\n",
       "    <tr>\n",
       "      <th>6</th>\n",
       "      <td>7296</td>\n",
       "      <td>Elon Musk replied to @Rainmaker1973 #SpaceX ht...</td>\n",
       "      <td>['elon', 'musk', 'replied']</td>\n",
       "      <td>0.511267</td>\n",
       "    </tr>\n",
       "    <tr>\n",
       "      <th>7</th>\n",
       "      <td>7559</td>\n",
       "      <td>Elon Musk replied to @SirineAti #SpaceX https:...</td>\n",
       "      <td>['elon', 'musk', 'replied']</td>\n",
       "      <td>0.511267</td>\n",
       "    </tr>\n",
       "    <tr>\n",
       "      <th>8</th>\n",
       "      <td>7554</td>\n",
       "      <td>Elon Musk replied to @elonmusk #SpaceX https:/...</td>\n",
       "      <td>['elon', 'musk', 'replied']</td>\n",
       "      <td>0.511267</td>\n",
       "    </tr>\n",
       "    <tr>\n",
       "      <th>9</th>\n",
       "      <td>7545</td>\n",
       "      <td>Elon Musk replied to @Erdayastronaut #SpaceX h...</td>\n",
       "      <td>['elon', 'musk', 'replied']</td>\n",
       "      <td>0.511267</td>\n",
       "    </tr>\n",
       "  </tbody>\n",
       "</table>\n",
       "</div>"
      ],
      "text/plain": [
       "   index                                               text  \\\n",
       "0   7323  @SpaceX + @DogelonMars = 🚀\\n\\n@elonmusk  Don't...   \n",
       "1   7319  RT @ElonMartians : @SpaceX + @DogelonMars = 🚀\\...   \n",
       "2  12610  @elonmusk @elonamuskjet @ElonMuskNewsOrg @Tesl...   \n",
       "3   7542  RT @Dyoungelonhero : Elon,Send #GalaxyHeroes t...   \n",
       "4   7523  In Elon We Trust! ❤️🙏🏼  #dogecoin #tesla #Spac...   \n",
       "5  11895  Could Elon Musk be a thief? Elon Musk why don'...   \n",
       "6   7296  Elon Musk replied to @Rainmaker1973 #SpaceX ht...   \n",
       "7   7559  Elon Musk replied to @SirineAti #SpaceX https:...   \n",
       "8   7554  Elon Musk replied to @elonmusk #SpaceX https:/...   \n",
       "9   7545  Elon Musk replied to @Erdayastronaut #SpaceX h...   \n",
       "\n",
       "                                               words     Score  \n",
       "0                                           ['elon']  1.000000  \n",
       "1                                     ['rt', 'elon']  0.924041  \n",
       "2                                 ['elon', 'spacex']  0.688690  \n",
       "3                             ['rt', 'elon', 'send']  0.620838  \n",
       "4                                  ['elon', 'trust']  0.597168  \n",
       "5  ['could', 'elon', 'musk', 'thief', 'elon', 'mu...  0.516056  \n",
       "6                        ['elon', 'musk', 'replied']  0.511267  \n",
       "7                        ['elon', 'musk', 'replied']  0.511267  \n",
       "8                        ['elon', 'musk', 'replied']  0.511267  \n",
       "9                        ['elon', 'musk', 'replied']  0.511267  "
      ]
     },
     "execution_count": 31,
     "metadata": {},
     "output_type": "execute_result"
    }
   ],
   "source": [
    "model = TFIDFSearch()\n",
    "results = model.search(10, \"elon musk\")\n",
    "results"
   ]
  },
  {
   "cell_type": "code",
   "execution_count": 32,
   "metadata": {},
   "outputs": [
    {
     "name": "stdout",
     "output_type": "stream",
     "text": [
      "0: \n",
      "@SpaceX + @DogelonMars = 🚀\n",
      "\n",
      "@elonmusk  Don't You Think❓\n",
      "\n",
      "$Elon 🔝\n",
      "\n",
      "#dogelon #dogelonmars #Elon\n",
      "#SpaceX #ToTheMars🚀\n",
      "#MultiPlanetarySpecies \n",
      "#MultiPlanetaryCurrency\n",
      "\n",
      "1: \n",
      "RT @ElonMartians : @SpaceX + @DogelonMars = 🚀\n",
      "\n",
      "@elonmusk  Don't You Think❓\n",
      "\n",
      "$Elon 🔝\n",
      "\n",
      "#dogelon #dogelonmars #Elon\n",
      "#SpaceX #ToTheMars🚀\n",
      "#MultiPlanetarySpecies \n",
      "#MultiPlanetaryCurrency\n",
      "\n",
      "2: \n",
      "@elonmusk @elonamuskjet @ElonMuskNewsOrg @Tesla @teslacn @teslaownersSV @SpaceX @SpaceXStarlink @spacex360 #Tesla Elon SpaceX #Tesla #ElonMusk https://t.co/6oNPBUrppo\n",
      "\n",
      "3: \n",
      "RT @Dyoungelonhero : Elon,Send #GalaxyHeroes to Mars！！ \n",
      "@elonmusk #ElonMusk\n",
      "#SpaceX\n",
      "https://t.co/KUGbk9Jhjz\n",
      "\n",
      "4: \n",
      "In Elon We Trust! ❤️🙏🏼  #dogecoin #tesla #SpaceX https://t.co/ydIzwj93Me\n",
      "\n",
      "5: \n",
      "Could Elon Musk be a thief? Elon Musk why don't you pay my share?\n",
      "#ElonMusk #Tesla #Texas #USA #Warriors #CIA #FBI #AttorneyJobs #FoxNews #ABC #CNBC #War #WarCrime #War #Peace #lordbenariel #mylove #Lord #justice #business @elonmusk @ABC @WhiteHouse @FBI\n",
      "https://t.co/NCsve1y7gd\n",
      "\n",
      "6: \n",
      "Elon Musk replied to @Rainmaker1973 #SpaceX https://t.co/88DZXBJbB0\n",
      "\n",
      "7: \n",
      "Elon Musk replied to @SirineAti #SpaceX https://t.co/FQhsBJNsiV\n",
      "\n",
      "8: \n",
      "Elon Musk replied to @elonmusk #SpaceX https://t.co/WZlfbpp9VL\n",
      "\n",
      "9: \n",
      "Elon Musk replied to @Erdayastronaut #SpaceX https://t.co/af0kEn5tuX\n",
      "\n"
     ]
    }
   ],
   "source": [
    "for i, res in enumerate(results.text):\n",
    "    print(f\"{i}: \")\n",
    "    print(res, end=\"\\n\\n\")"
   ]
  },
  {
   "cell_type": "code",
   "execution_count": 97,
   "metadata": {
    "pycharm": {
     "name": "#%%\n"
    }
   },
   "outputs": [],
   "source": [
    "class BooleanSearch:\n",
    "    def __init__(self):\n",
    "        self.vocabulary = list(set(df['Text_words'].explode()) - {np.nan})\n",
    "        self.vocabulary_index = {word: idx for idx, word in enumerate(self.vocabulary)}\n",
    "\n",
    "        self.mat = np.zeros((len(df), len(self.vocabulary)), )\n",
    "\n",
    "        for index, row in df.iterrows():\n",
    "            for token in row['Text_words']:\n",
    "                self.mat[index][self.vocabulary_index[token]] = 1\n",
    "\n",
    "\n",
    "    def search(self, k, query):\n",
    "        #print(\"Cosine Similarity\")\n",
    "        tokens = text_to_words(query)\n",
    "        query_vector = []\n",
    "        for token in tokens:\n",
    "            if token in self.vocabulary_index:\n",
    "                query_vector.append(self.vocabulary_index[token])\n",
    "        out = []\n",
    "        for index, vec in enumerate(self.mat):\n",
    "            flag = True\n",
    "            for token_index in query_vector:\n",
    "                if vec[token_index] == 0:\n",
    "                    flag = False\n",
    "                    break\n",
    "            if flag:\n",
    "                out.append(index)\n",
    "            if len(out) == k:\n",
    "                break\n",
    "        print(out)\n",
    "        a = pd.DataFrame()\n",
    "        for i, index in enumerate(out):\n",
    "            a.loc[i, 'index'] = str(index)\n",
    "            a.loc[i, 'text'] = df.iloc[index]['Text']\n",
    "            a.loc[i, 'words'] = str(df.iloc[index]['Text_words'])\n",
    "\n",
    "        return a"
   ]
  },
  {
   "cell_type": "code",
   "execution_count": 98,
   "metadata": {
    "pycharm": {
     "name": "#%%\n"
    }
   },
   "outputs": [
    {
     "name": "stdout",
     "output_type": "stream",
     "text": [
      "[22, 93, 350, 1495, 1517, 1531, 1543, 1547, 1548, 1549]\n"
     ]
    },
    {
     "data": {
      "text/html": [
       "<div>\n",
       "<style scoped>\n",
       "    .dataframe tbody tr th:only-of-type {\n",
       "        vertical-align: middle;\n",
       "    }\n",
       "\n",
       "    .dataframe tbody tr th {\n",
       "        vertical-align: top;\n",
       "    }\n",
       "\n",
       "    .dataframe thead th {\n",
       "        text-align: right;\n",
       "    }\n",
       "</style>\n",
       "<table border=\"1\" class=\"dataframe\">\n",
       "  <thead>\n",
       "    <tr style=\"text-align: right;\">\n",
       "      <th></th>\n",
       "      <th>index</th>\n",
       "      <th>text</th>\n",
       "      <th>words</th>\n",
       "    </tr>\n",
       "  </thead>\n",
       "  <tbody>\n",
       "    <tr>\n",
       "      <th>0</th>\n",
       "      <td>22</td>\n",
       "      <td>Elon Musk give me  MONEY bitch And don't forge...</td>\n",
       "      <td>['elon', 'musk', 'give', 'money', 'bitch', 'fo...</td>\n",
       "    </tr>\n",
       "    <tr>\n",
       "      <th>1</th>\n",
       "      <td>93</td>\n",
       "      <td>Elon Musk give me  $10,000 AND Putin a giant s...</td>\n",
       "      <td>['elon', 'musk', 'give', 'putin', 'giant', 'sp...</td>\n",
       "    </tr>\n",
       "    <tr>\n",
       "      <th>2</th>\n",
       "      <td>350</td>\n",
       "      <td>Elon Musk give me  $99,000 AND Putin elegant a...</td>\n",
       "      <td>['elon', 'musk', 'give', 'putin', 'elegant', '...</td>\n",
       "    </tr>\n",
       "    <tr>\n",
       "      <th>3</th>\n",
       "      <td>1495</td>\n",
       "      <td>what if Gerald Cotten is Elon Musk (:)\\n@elonm...</td>\n",
       "      <td>['gerald', 'cotten', 'elon', 'musk', 'musk']</td>\n",
       "    </tr>\n",
       "    <tr>\n",
       "      <th>4</th>\n",
       "      <td>1517</td>\n",
       "      <td>Elon Musk's SpaceX has cleared a huge obstacle...</td>\n",
       "      <td>['elon', 'musk', 'spacex', 'cleared', 'huge', ...</td>\n",
       "    </tr>\n",
       "    <tr>\n",
       "      <th>5</th>\n",
       "      <td>1531</td>\n",
       "      <td>How China could kill Space X.\\nSpace X's space...</td>\n",
       "      <td>['china', 'could', 'kill', 'space', 'space', '...</td>\n",
       "    </tr>\n",
       "    <tr>\n",
       "      <th>6</th>\n",
       "      <td>1543</td>\n",
       "      <td>RT @weatherindia : Elon Musk's #SpaceX has rec...</td>\n",
       "      <td>['rt', 'elon', 'musk', 'received', 'environmen...</td>\n",
       "    </tr>\n",
       "    <tr>\n",
       "      <th>7</th>\n",
       "      <td>1547</td>\n",
       "      <td>RT @TweakTown : Elon Musk says @SpaceX's Stars...</td>\n",
       "      <td>['rt', 'elon', 'musk', 'says', 'starship', 'ro...</td>\n",
       "    </tr>\n",
       "    <tr>\n",
       "      <th>8</th>\n",
       "      <td>1548</td>\n",
       "      <td>RT @TweakTown : Elon Musk says @SpaceX's Stars...</td>\n",
       "      <td>['rt', 'elon', 'musk', 'says', 'starship', 'ro...</td>\n",
       "    </tr>\n",
       "    <tr>\n",
       "      <th>9</th>\n",
       "      <td>1549</td>\n",
       "      <td>RT @TweakTown : Elon Musk says @SpaceX's Stars...</td>\n",
       "      <td>['rt', 'elon', 'musk', 'says', 'starship', 'ro...</td>\n",
       "    </tr>\n",
       "  </tbody>\n",
       "</table>\n",
       "</div>"
      ],
      "text/plain": [
       "  index                                               text  \\\n",
       "0    22  Elon Musk give me  MONEY bitch And don't forge...   \n",
       "1    93  Elon Musk give me  $10,000 AND Putin a giant s...   \n",
       "2   350  Elon Musk give me  $99,000 AND Putin elegant a...   \n",
       "3  1495  what if Gerald Cotten is Elon Musk (:)\\n@elonm...   \n",
       "4  1517  Elon Musk's SpaceX has cleared a huge obstacle...   \n",
       "5  1531  How China could kill Space X.\\nSpace X's space...   \n",
       "6  1543  RT @weatherindia : Elon Musk's #SpaceX has rec...   \n",
       "7  1547  RT @TweakTown : Elon Musk says @SpaceX's Stars...   \n",
       "8  1548  RT @TweakTown : Elon Musk says @SpaceX's Stars...   \n",
       "9  1549  RT @TweakTown : Elon Musk says @SpaceX's Stars...   \n",
       "\n",
       "                                               words  \n",
       "0  ['elon', 'musk', 'give', 'money', 'bitch', 'fo...  \n",
       "1  ['elon', 'musk', 'give', 'putin', 'giant', 'sp...  \n",
       "2  ['elon', 'musk', 'give', 'putin', 'elegant', '...  \n",
       "3       ['gerald', 'cotten', 'elon', 'musk', 'musk']  \n",
       "4  ['elon', 'musk', 'spacex', 'cleared', 'huge', ...  \n",
       "5  ['china', 'could', 'kill', 'space', 'space', '...  \n",
       "6  ['rt', 'elon', 'musk', 'received', 'environmen...  \n",
       "7  ['rt', 'elon', 'musk', 'says', 'starship', 'ro...  \n",
       "8  ['rt', 'elon', 'musk', 'says', 'starship', 'ro...  \n",
       "9  ['rt', 'elon', 'musk', 'says', 'starship', 'ro...  "
      ]
     },
     "execution_count": 98,
     "metadata": {},
     "output_type": "execute_result"
    }
   ],
   "source": [
    "model = BooleanSearch()\n",
    "model.search(10, \"Elon Musk\")"
   ]
  },
  {
   "cell_type": "code",
   "execution_count": 90,
   "metadata": {
    "pycharm": {
     "name": "#%%\n"
    }
   },
   "outputs": [],
   "source": [
    "import fasttext.util\n",
    "\n",
    "class FastText:\n",
    "    def __init__(self):\n",
    "        fasttext.util.download_model('en', if_exists='ignore')  # English\n",
    "        self.ft = fasttext.load_model(\"./cc.en.300.bin\")\n",
    "        self.text_vectors = []\n",
    "        for _, row in df.iterrows():\n",
    "            self.text_vectors.append(self.tokens_to_vec(row['Text_words']))\n",
    "\n",
    "    def tokens_to_vec(self, tokens):\n",
    "        cur_vectors = []\n",
    "        if len(tokens) == 0:\n",
    "            return np.zeros(self.ft.get_dimension())\n",
    "        for token in tokens:\n",
    "            cur_vectors.append(self.ft.get_word_vector(token))\n",
    "        return np.asarray(np.average(cur_vectors, axis=0, keepdims=True))[0]\n",
    "\n",
    "    @staticmethod\n",
    "    def cosine_sim(a, b):\n",
    "        norm_a = np.linalg.norm(a)\n",
    "        norm_b = np.linalg.norm(b)\n",
    "        if norm_a == 0 or norm_b == 0:\n",
    "            return 0\n",
    "        cos_sim = np.dot(a, b)/(norm_a*norm_b)\n",
    "        return cos_sim\n",
    "\n",
    "    def search(self, k, query):\n",
    "        tokens = text_to_words(query)\n",
    "        query_vector = self.tokens_to_vec(tokens)\n",
    "        d_cosines = []\n",
    "\n",
    "        for d in self.text_vectors:\n",
    "            d_cosines.append(self.cosine_sim(d, query_vector))\n",
    "\n",
    "        out = np.array(d_cosines).argsort()[-k:][::-1]\n",
    "        a = pd.DataFrame()\n",
    "        for i, index in enumerate(out):\n",
    "            a.loc[i, 'index'] = str(index)\n",
    "            a.loc[i, 'text'] = df.iloc[index]['Text']\n",
    "            a.loc[i, 'words'] = str(df.iloc[index]['Text_words'])\n",
    "            a.loc[i, 'Score'] = d_cosines[int(index)]\n",
    "        return a"
   ]
  },
  {
   "cell_type": "code",
   "execution_count": 91,
   "metadata": {
    "pycharm": {
     "name": "#%%\n"
    }
   },
   "outputs": [
    {
     "name": "stderr",
     "output_type": "stream",
     "text": [
      "Warning : `load_model` does not return WordVectorModel or SupervisedModel any more, but a `FastText` object which is very similar.\n"
     ]
    },
    {
     "data": {
      "text/html": [
       "<div>\n",
       "<style scoped>\n",
       "    .dataframe tbody tr th:only-of-type {\n",
       "        vertical-align: middle;\n",
       "    }\n",
       "\n",
       "    .dataframe tbody tr th {\n",
       "        vertical-align: top;\n",
       "    }\n",
       "\n",
       "    .dataframe thead th {\n",
       "        text-align: right;\n",
       "    }\n",
       "</style>\n",
       "<table border=\"1\" class=\"dataframe\">\n",
       "  <thead>\n",
       "    <tr style=\"text-align: right;\">\n",
       "      <th></th>\n",
       "      <th>index</th>\n",
       "      <th>text</th>\n",
       "      <th>words</th>\n",
       "      <th>Score</th>\n",
       "    </tr>\n",
       "  </thead>\n",
       "  <tbody>\n",
       "    <tr>\n",
       "      <th>0</th>\n",
       "      <td>2223</td>\n",
       "      <td>Elon Musk replied to @SpaceX #SpaceX https://t...</td>\n",
       "      <td>['elon', 'musk', 'replied']</td>\n",
       "      <td>0.978804</td>\n",
       "    </tr>\n",
       "    <tr>\n",
       "      <th>1</th>\n",
       "      <td>2161</td>\n",
       "      <td>Elon Musk replied to @Erdayastronaut #SpaceX h...</td>\n",
       "      <td>['elon', 'musk', 'replied']</td>\n",
       "      <td>0.978804</td>\n",
       "    </tr>\n",
       "    <tr>\n",
       "      <th>2</th>\n",
       "      <td>2174</td>\n",
       "      <td>Elon Musk replied to @elonmusk #SpaceX https:/...</td>\n",
       "      <td>['elon', 'musk', 'replied']</td>\n",
       "      <td>0.978804</td>\n",
       "    </tr>\n",
       "    <tr>\n",
       "      <th>3</th>\n",
       "      <td>2181</td>\n",
       "      <td>Elon Musk replied to @SirineAti #SpaceX https:...</td>\n",
       "      <td>['elon', 'musk', 'replied']</td>\n",
       "      <td>0.978804</td>\n",
       "    </tr>\n",
       "    <tr>\n",
       "      <th>4</th>\n",
       "      <td>2206</td>\n",
       "      <td>Elon Musk replied to @DJSnM #SpaceX https://t....</td>\n",
       "      <td>['elon', 'musk', 'replied']</td>\n",
       "      <td>0.978804</td>\n",
       "    </tr>\n",
       "    <tr>\n",
       "      <th>5</th>\n",
       "      <td>1780</td>\n",
       "      <td>Elon Musk replied to @Rainmaker1973 #SpaceX ht...</td>\n",
       "      <td>['elon', 'musk', 'replied']</td>\n",
       "      <td>0.978804</td>\n",
       "    </tr>\n",
       "    <tr>\n",
       "      <th>6</th>\n",
       "      <td>14423</td>\n",
       "      <td>what if Gerald Cotten is Elon Musk (:)\\n@elonm...</td>\n",
       "      <td>['gerald', 'cotten', 'elon', 'musk', 'musk']</td>\n",
       "      <td>0.965241</td>\n",
       "    </tr>\n",
       "    <tr>\n",
       "      <th>7</th>\n",
       "      <td>1495</td>\n",
       "      <td>what if Gerald Cotten is Elon Musk (:)\\n@elonm...</td>\n",
       "      <td>['gerald', 'cotten', 'elon', 'musk', 'musk']</td>\n",
       "      <td>0.965241</td>\n",
       "    </tr>\n",
       "    <tr>\n",
       "      <th>8</th>\n",
       "      <td>14980</td>\n",
       "      <td>🔥👽 Episode 87 of Elon Musk Radio!\\n\\nTwitter: ...</td>\n",
       "      <td>['episode', 'elon', 'musk', 'radio', 'twitter'...</td>\n",
       "      <td>0.929618</td>\n",
       "    </tr>\n",
       "    <tr>\n",
       "      <th>9</th>\n",
       "      <td>14730</td>\n",
       "      <td>Could Elon Musk be a thief? Elon Musk why don'...</td>\n",
       "      <td>['could', 'elon', 'musk', 'thief', 'elon', 'mu...</td>\n",
       "      <td>0.916916</td>\n",
       "    </tr>\n",
       "  </tbody>\n",
       "</table>\n",
       "</div>"
      ],
      "text/plain": [
       "   index                                               text  \\\n",
       "0   2223  Elon Musk replied to @SpaceX #SpaceX https://t...   \n",
       "1   2161  Elon Musk replied to @Erdayastronaut #SpaceX h...   \n",
       "2   2174  Elon Musk replied to @elonmusk #SpaceX https:/...   \n",
       "3   2181  Elon Musk replied to @SirineAti #SpaceX https:...   \n",
       "4   2206  Elon Musk replied to @DJSnM #SpaceX https://t....   \n",
       "5   1780  Elon Musk replied to @Rainmaker1973 #SpaceX ht...   \n",
       "6  14423  what if Gerald Cotten is Elon Musk (:)\\n@elonm...   \n",
       "7   1495  what if Gerald Cotten is Elon Musk (:)\\n@elonm...   \n",
       "8  14980  🔥👽 Episode 87 of Elon Musk Radio!\\n\\nTwitter: ...   \n",
       "9  14730  Could Elon Musk be a thief? Elon Musk why don'...   \n",
       "\n",
       "                                               words     Score  \n",
       "0                        ['elon', 'musk', 'replied']  0.978804  \n",
       "1                        ['elon', 'musk', 'replied']  0.978804  \n",
       "2                        ['elon', 'musk', 'replied']  0.978804  \n",
       "3                        ['elon', 'musk', 'replied']  0.978804  \n",
       "4                        ['elon', 'musk', 'replied']  0.978804  \n",
       "5                        ['elon', 'musk', 'replied']  0.978804  \n",
       "6       ['gerald', 'cotten', 'elon', 'musk', 'musk']  0.965241  \n",
       "7       ['gerald', 'cotten', 'elon', 'musk', 'musk']  0.965241  \n",
       "8  ['episode', 'elon', 'musk', 'radio', 'twitter'...  0.929618  \n",
       "9  ['could', 'elon', 'musk', 'thief', 'elon', 'mu...  0.916916  "
      ]
     },
     "execution_count": 91,
     "metadata": {},
     "output_type": "execute_result"
    }
   ],
   "source": [
    "amo = FastText()\n",
    "amo.search(10, \"Elon musk\")"
   ]
  },
  {
   "cell_type": "code",
   "execution_count": null,
   "metadata": {
    "pycharm": {
     "name": "#%%\n"
    }
   },
   "outputs": [],
   "source": []
  }
 ],
 "metadata": {
  "kernelspec": {
   "display_name": "Python 3 (ipykernel)",
   "language": "python",
   "name": "python3"
  },
  "language_info": {
   "codemirror_mode": {
    "name": "ipython",
    "version": 3
   },
   "file_extension": ".py",
   "mimetype": "text/x-python",
   "name": "python",
   "nbconvert_exporter": "python",
   "pygments_lexer": "ipython3",
   "version": "3.9.12"
  }
 },
 "nbformat": 4,
 "nbformat_minor": 2
}
