{
 "cells": [
  {
   "cell_type": "code",
   "execution_count": 1,
   "outputs": [
    {
     "name": "stdout",
     "output_type": "stream",
     "text": [
      "Requirement already satisfied: numpy in ./venv/lib/python3.9/site-packages (1.23.0)\r\n",
      "\u001B[33mWARNING: You are using pip version 21.1.2; however, version 22.1.2 is available.\r\n",
      "You should consider upgrading via the '/home/danial/PycharmProjects/MIR-HWs3-5/venv/bin/python -m pip install --upgrade pip' command.\u001B[0m\r\n",
      "Requirement already satisfied: pandas in ./venv/lib/python3.9/site-packages (1.4.3)\r\n",
      "Requirement already satisfied: python-dateutil>=2.8.1 in ./venv/lib/python3.9/site-packages (from pandas) (2.8.2)\r\n",
      "Requirement already satisfied: numpy>=1.18.5 in ./venv/lib/python3.9/site-packages (from pandas) (1.23.0)\r\n",
      "Requirement already satisfied: pytz>=2020.1 in ./venv/lib/python3.9/site-packages (from pandas) (2022.1)\r\n",
      "Requirement already satisfied: six>=1.5 in ./venv/lib/python3.9/site-packages (from python-dateutil>=2.8.1->pandas) (1.16.0)\r\n",
      "\u001B[33mWARNING: You are using pip version 21.1.2; however, version 22.1.2 is available.\r\n",
      "You should consider upgrading via the '/home/danial/PycharmProjects/MIR-HWs3-5/venv/bin/python -m pip install --upgrade pip' command.\u001B[0m\r\n",
      "Requirement already satisfied: openpyxl in ./venv/lib/python3.9/site-packages (3.0.10)\r\n",
      "Requirement already satisfied: et-xmlfile in ./venv/lib/python3.9/site-packages (from openpyxl) (1.1.0)\r\n",
      "\u001B[33mWARNING: You are using pip version 21.1.2; however, version 22.1.2 is available.\r\n",
      "You should consider upgrading via the '/home/danial/PycharmProjects/MIR-HWs3-5/venv/bin/python -m pip install --upgrade pip' command.\u001B[0m\r\n",
      "Requirement already satisfied: nltk in ./venv/lib/python3.9/site-packages (3.7)\r\n",
      "Requirement already satisfied: click in ./venv/lib/python3.9/site-packages (from nltk) (8.1.3)\r\n",
      "Requirement already satisfied: joblib in ./venv/lib/python3.9/site-packages (from nltk) (1.1.0)\r\n",
      "Requirement already satisfied: tqdm in ./venv/lib/python3.9/site-packages (from nltk) (4.64.0)\r\n",
      "Requirement already satisfied: regex>=2021.8.3 in ./venv/lib/python3.9/site-packages (from nltk) (2022.6.2)\r\n",
      "\u001B[33mWARNING: You are using pip version 21.1.2; however, version 22.1.2 is available.\r\n",
      "You should consider upgrading via the '/home/danial/PycharmProjects/MIR-HWs3-5/venv/bin/python -m pip install --upgrade pip' command.\u001B[0m\r\n",
      "Requirement already satisfied: sklearn in ./venv/lib/python3.9/site-packages (0.0)\r\n",
      "Requirement already satisfied: scikit-learn in ./venv/lib/python3.9/site-packages (from sklearn) (1.1.1)\r\n",
      "Requirement already satisfied: joblib>=1.0.0 in ./venv/lib/python3.9/site-packages (from scikit-learn->sklearn) (1.1.0)\r\n",
      "Requirement already satisfied: scipy>=1.3.2 in ./venv/lib/python3.9/site-packages (from scikit-learn->sklearn) (1.8.1)\r\n",
      "Requirement already satisfied: threadpoolctl>=2.0.0 in ./venv/lib/python3.9/site-packages (from scikit-learn->sklearn) (3.1.0)\r\n",
      "Requirement already satisfied: numpy>=1.17.3 in ./venv/lib/python3.9/site-packages (from scikit-learn->sklearn) (1.23.0)\r\n",
      "\u001B[33mWARNING: You are using pip version 21.1.2; however, version 22.1.2 is available.\r\n",
      "You should consider upgrading via the '/home/danial/PycharmProjects/MIR-HWs3-5/venv/bin/python -m pip install --upgrade pip' command.\u001B[0m\r\n",
      "Requirement already satisfied: fasttext in ./venv/lib/python3.9/site-packages (0.9.2)\r\n",
      "Requirement already satisfied: pybind11>=2.2 in ./venv/lib/python3.9/site-packages (from fasttext) (2.9.2)\r\n",
      "Requirement already satisfied: setuptools>=0.7.0 in ./venv/lib/python3.9/site-packages (from fasttext) (57.0.0)\r\n",
      "Requirement already satisfied: numpy in ./venv/lib/python3.9/site-packages (from fasttext) (1.23.0)\r\n",
      "\u001B[33mWARNING: You are using pip version 21.1.2; however, version 22.1.2 is available.\r\n",
      "You should consider upgrading via the '/home/danial/PycharmProjects/MIR-HWs3-5/venv/bin/python -m pip install --upgrade pip' command.\u001B[0m\r\n"
     ]
    }
   ],
   "source": [
    "!pip install numpy\n",
    "!pip install pandas\n",
    "!pip install openpyxl\n",
    "!pip install nltk\n",
    "!pip install sklearn\n",
    "!pip install fasttext"
   ],
   "metadata": {
    "collapsed": false,
    "pycharm": {
     "name": "#%%\n"
    }
   }
  },
  {
   "cell_type": "code",
   "execution_count": 2,
   "metadata": {},
   "outputs": [
    {
     "name": "stderr",
     "output_type": "stream",
     "text": [
      "[nltk_data] Downloading package punkt to /home/danial/nltk_data...\n",
      "[nltk_data]   Package punkt is already up-to-date!\n",
      "[nltk_data] Downloading package stopwords to /home/danial/nltk_data...\n",
      "[nltk_data]   Package stopwords is already up-to-date!\n"
     ]
    },
    {
     "data": {
      "text/plain": "True"
     },
     "execution_count": 2,
     "metadata": {},
     "output_type": "execute_result"
    }
   ],
   "source": [
    "import os\n",
    "import numpy as np\n",
    "import nltk\n",
    "import pandas as pd\n",
    "\n",
    "nltk.download('punkt')\n",
    "nltk.download('stopwords')"
   ]
  },
  {
   "cell_type": "code",
   "execution_count": 3,
   "metadata": {},
   "outputs": [
    {
     "name": "stdout",
     "output_type": "stream",
     "text": [
      "WWDC.xlsx: (2080, 19)\n",
      "spaceX.xlsx: (2010, 19)\n",
      "Google.xlsx: (2051, 19)\n",
      "Meta.xlsx: (1644, 19)\n",
      "metaverse.xlsx: (1553, 19)\n",
      "Apple.xlsx: (2031, 19)\n",
      "instagram.xlsx: (1949, 19)\n",
      "Microsoft.xlsx: (2080, 19)\n",
      "Twitter.xlsx: (1616, 19)\n",
      "facebook.xlsx: (2027, 19)\n",
      "Amazon.xlsx: (2078, 19)\n",
      "nvidia.xlsx: (2010, 19)\n",
      "Tesla.xlsx: (2004, 19)\n"
     ]
    }
   ],
   "source": [
    "dfs = []\n",
    "for file in os.listdir(\"./Excels\"):\n",
    "    df = pd.read_excel(os.path.join(\"./Excels\", file))\n",
    "    dfs.append(df)\n",
    "    print(file, end=\": \")\n",
    "    print(df.shape)\n",
    "df = pd.concat(dfs)"
   ]
  },
  {
   "cell_type": "code",
   "execution_count": 4,
   "metadata": {},
   "outputs": [
    {
     "data": {
      "text/plain": "(Index(['Tweet Id', 'Text', 'Name', 'Screen Name', 'UTC', 'Created At',\n        'Favorites', 'Retweets', 'Language', 'Client', 'Tweet Type', 'URLs',\n        'Hashtags', 'Mentions', 'Media Type', 'Media URLs', 'Unnamed: 16',\n        'Unnamed: 17', 'Unnamed: 18'],\n       dtype='object'),\n (25133, 19))"
     },
     "execution_count": 4,
     "metadata": {},
     "output_type": "execute_result"
    }
   ],
   "source": [
    "df.columns, df.shape"
   ]
  },
  {
   "cell_type": "code",
   "execution_count": 5,
   "outputs": [],
   "source": [
    "df = df[df['Language'] == 'en']\n",
    "df.reset_index(drop=True, inplace=True)"
   ],
   "metadata": {
    "collapsed": false,
    "pycharm": {
     "name": "#%%\n"
    }
   }
  },
  {
   "cell_type": "code",
   "source": [
    "from nltk.corpus import stopwords\n",
    "import re\n",
    "def text_to_words(text):\n",
    "    text = text.lower()\n",
    "    text = re.sub(\n",
    "    \"(https?://(?:www\\.|(?!www))[a-zA-Z0-9][a-zA-Z0-9-]+[a-zA-Z0-9]\\.[^\\s]{2,}|www\\.[a-zA-Z0-9][a-zA-Z0-9-]+[a-zA-Z0-9]\\.[^\\s]{2,}|https?://(?:www\\.|(?!www))[a-zA-Z0-9]+\\.[^\\s]{2,}|www\\.[a-zA-Z0-9]+\\.[^\\s]{2,})\",\n",
    "    \"\", text)\n",
    "    text = re.sub(\"#\\w+\", \"\", text)\n",
    "    text = re.sub(\"@\\w+\", \"\", text)\n",
    "    words = nltk.word_tokenize(text)\n",
    "    words = [word for word in words if word not in stopwords.words('english') and word.isalpha()]\n",
    "    return words\n",
    "df['Text_words'] = df['Text'].apply(text_to_words)"
   ],
   "metadata": {
    "collapsed": false,
    "pycharm": {
     "name": "#%%\n"
    }
   },
   "execution_count": 6,
   "outputs": []
  },
  {
   "cell_type": "code",
   "execution_count": 7,
   "outputs": [
    {
     "data": {
      "text/plain": "[('rt', 8640),\n ('amp', 1744),\n ('new', 1247),\n ('join', 1132),\n ('video', 1129),\n ('campaign', 924),\n ('microsoft', 837),\n ('us', 834),\n ('latest', 778),\n ('follow', 748),\n ('technology', 747),\n ('environments', 746),\n ('testing', 675),\n ('skills', 668),\n ('apple', 667),\n ('unique', 657),\n ('airdrop', 657),\n ('rtx', 655),\n ('mr', 649),\n ('heroes', 646)]"
     },
     "execution_count": 7,
     "metadata": {},
     "output_type": "execute_result"
    }
   ],
   "source": [
    "nltk.FreqDist(df['Text_words'].explode()).most_common(20)"
   ],
   "metadata": {
    "collapsed": false,
    "pycharm": {
     "name": "#%%\n"
    }
   }
  },
  {
   "cell_type": "code",
   "execution_count": 95,
   "outputs": [],
   "source": [
    "import pandas as pd\n",
    "import numpy as np\n",
    "import re\n",
    "from sklearn.feature_extraction.text import TfidfVectorizer\n",
    "\n",
    "class TFIDFSearch:\n",
    "    def __init__(self):\n",
    "        self.vocabulary = list(set(df['Text_words'].explode()) - {np.nan})\n",
    "\n",
    "        self.tfidf = TfidfVectorizer(vocabulary=self.vocabulary)\n",
    "        self.tfidf_tran=self.tfidf.fit_transform(df['Text_words'].apply(lambda x: ' '.join(x)))\n",
    "\n",
    "    def get_vector(self, tokens):\n",
    "        result = np.zeros((len(self.vocabulary)))\n",
    "        x= self.tfidf.transform(tokens)\n",
    "        for token in tokens:\n",
    "            try:\n",
    "                ind = self.vocabulary.index(token)\n",
    "                result[ind]  = x[0, self.tfidf.vocabulary_[token]]\n",
    "            except Exception as e:\n",
    "                print(e)\n",
    "                pass\n",
    "        return result\n",
    "\n",
    "    @staticmethod\n",
    "    def cosine_sim(a, b):\n",
    "        norm_a = np.linalg.norm(a)\n",
    "        norm_b = np.linalg.norm(b)\n",
    "        if norm_a == 0 or norm_b == 0:\n",
    "            return 0\n",
    "        cos_sim = np.dot(a, b)/(norm_a*norm_b)\n",
    "        return cos_sim\n",
    "\n",
    "    def search(self, k, query):\n",
    "        tokens = text_to_words(query)\n",
    "        print(tokens)\n",
    "        q_df = pd.DataFrame(columns=['q_clean'])\n",
    "        q_df.loc[0, 'q_clean'] = tokens\n",
    "\n",
    "        d_cosines = []\n",
    "\n",
    "        query_vector = self.get_vector(tokens)\n",
    "        for d in self.tfidf_tran.A:\n",
    "            d_cosines.append(self.cosine_sim(query_vector, d))\n",
    "\n",
    "        out = np.array(d_cosines).argsort()[-k:][::-1]\n",
    "        a = pd.DataFrame()\n",
    "        for i, index in enumerate(out):\n",
    "            a.loc[i, 'index'] = str(index)\n",
    "            a.loc[i, 'text'] = df.iloc[index]['Text']\n",
    "            a.loc[i, 'words'] = str(df.iloc[index]['Text_words'])\n",
    "            a.loc[i, 'Score'] = d_cosines[int(index)]\n",
    "        return a"
   ],
   "metadata": {
    "collapsed": false,
    "pycharm": {
     "name": "#%%\n"
    }
   }
  },
  {
   "cell_type": "code",
   "execution_count": 96,
   "outputs": [
    {
     "name": "stderr",
     "output_type": "stream",
     "text": [
      "/home/danial/PycharmProjects/MIR-HWs3-5/venv/lib/python3.9/site-packages/sklearn/feature_extraction/text.py:1330: UserWarning: Upper case characters found in vocabulary while 'lowercase' is True. These entries will not be matched with any documents\n",
      "  warnings.warn(\n"
     ]
    },
    {
     "name": "stdout",
     "output_type": "stream",
     "text": [
      "['elon', 'musk']\n"
     ]
    },
    {
     "data": {
      "text/plain": "   index                                               text  \\\n0   1817  @SpaceX + @DogelonMars = 🚀\\n\\n@elonmusk  Don't...   \n1   1813  RT @ElonMartians : @SpaceX + @DogelonMars = 🚀\\...   \n2   1814  RT @ElonMartians : @SpaceX + @DogelonMars = 🚀\\...   \n3   1811  RT @ElonMartians : @SpaceX + @DogelonMars = 🚀\\...   \n4  15901  @elonmusk @elonamuskjet @ElonMuskNewsOrg @Tesl...   \n5   2813  RT @Dyoungelonhero : Elon,Send #GalaxyHeroes t...   \n6   2583  RT @Dyoungelonhero : Elon,Send #GalaxyHeroes t...   \n7   2158  RT @Dyoungelonhero : Elon,Send #GalaxyHeroes t...   \n8   2131  In Elon We Trust! ❤️🙏🏼  #dogecoin #tesla #Spac...   \n9  14730  Could Elon Musk be a thief? Elon Musk why don'...   \n\n                                               words     Score  \n0                                           ['elon']  1.000000  \n1                                     ['rt', 'elon']  0.949679  \n2                                     ['rt', 'elon']  0.949679  \n3                                     ['rt', 'elon']  0.949679  \n4                                 ['elon', 'spacex']  0.668938  \n5                             ['rt', 'elon', 'send']  0.615394  \n6                             ['rt', 'elon', 'send']  0.615394  \n7                             ['rt', 'elon', 'send']  0.615394  \n8                                  ['elon', 'trust']  0.530308  \n9  ['could', 'elon', 'musk', 'thief', 'elon', 'mu...  0.485152  ",
      "text/html": "<div>\n<style scoped>\n    .dataframe tbody tr th:only-of-type {\n        vertical-align: middle;\n    }\n\n    .dataframe tbody tr th {\n        vertical-align: top;\n    }\n\n    .dataframe thead th {\n        text-align: right;\n    }\n</style>\n<table border=\"1\" class=\"dataframe\">\n  <thead>\n    <tr style=\"text-align: right;\">\n      <th></th>\n      <th>index</th>\n      <th>text</th>\n      <th>words</th>\n      <th>Score</th>\n    </tr>\n  </thead>\n  <tbody>\n    <tr>\n      <th>0</th>\n      <td>1817</td>\n      <td>@SpaceX + @DogelonMars = 🚀\\n\\n@elonmusk  Don't...</td>\n      <td>['elon']</td>\n      <td>1.000000</td>\n    </tr>\n    <tr>\n      <th>1</th>\n      <td>1813</td>\n      <td>RT @ElonMartians : @SpaceX + @DogelonMars = 🚀\\...</td>\n      <td>['rt', 'elon']</td>\n      <td>0.949679</td>\n    </tr>\n    <tr>\n      <th>2</th>\n      <td>1814</td>\n      <td>RT @ElonMartians : @SpaceX + @DogelonMars = 🚀\\...</td>\n      <td>['rt', 'elon']</td>\n      <td>0.949679</td>\n    </tr>\n    <tr>\n      <th>3</th>\n      <td>1811</td>\n      <td>RT @ElonMartians : @SpaceX + @DogelonMars = 🚀\\...</td>\n      <td>['rt', 'elon']</td>\n      <td>0.949679</td>\n    </tr>\n    <tr>\n      <th>4</th>\n      <td>15901</td>\n      <td>@elonmusk @elonamuskjet @ElonMuskNewsOrg @Tesl...</td>\n      <td>['elon', 'spacex']</td>\n      <td>0.668938</td>\n    </tr>\n    <tr>\n      <th>5</th>\n      <td>2813</td>\n      <td>RT @Dyoungelonhero : Elon,Send #GalaxyHeroes t...</td>\n      <td>['rt', 'elon', 'send']</td>\n      <td>0.615394</td>\n    </tr>\n    <tr>\n      <th>6</th>\n      <td>2583</td>\n      <td>RT @Dyoungelonhero : Elon,Send #GalaxyHeroes t...</td>\n      <td>['rt', 'elon', 'send']</td>\n      <td>0.615394</td>\n    </tr>\n    <tr>\n      <th>7</th>\n      <td>2158</td>\n      <td>RT @Dyoungelonhero : Elon,Send #GalaxyHeroes t...</td>\n      <td>['rt', 'elon', 'send']</td>\n      <td>0.615394</td>\n    </tr>\n    <tr>\n      <th>8</th>\n      <td>2131</td>\n      <td>In Elon We Trust! ❤️🙏🏼  #dogecoin #tesla #Spac...</td>\n      <td>['elon', 'trust']</td>\n      <td>0.530308</td>\n    </tr>\n    <tr>\n      <th>9</th>\n      <td>14730</td>\n      <td>Could Elon Musk be a thief? Elon Musk why don'...</td>\n      <td>['could', 'elon', 'musk', 'thief', 'elon', 'mu...</td>\n      <td>0.485152</td>\n    </tr>\n  </tbody>\n</table>\n</div>"
     },
     "execution_count": 96,
     "metadata": {},
     "output_type": "execute_result"
    }
   ],
   "source": [
    "model = TFIDFSearch()\n",
    "model.search(10, \"elon musk\")"
   ],
   "metadata": {
    "collapsed": false,
    "pycharm": {
     "name": "#%%\n"
    }
   }
  },
  {
   "cell_type": "code",
   "execution_count": 97,
   "outputs": [],
   "source": [
    "class BooleanSearch:\n",
    "    def __init__(self):\n",
    "        self.vocabulary = list(set(df['Text_words'].explode()) - {np.nan})\n",
    "        self.vocabulary_index = {word: idx for idx, word in enumerate(self.vocabulary)}\n",
    "\n",
    "        self.mat = np.zeros((len(df), len(self.vocabulary)), )\n",
    "\n",
    "        for index, row in df.iterrows():\n",
    "            for token in row['Text_words']:\n",
    "                self.mat[index][self.vocabulary_index[token]] = 1\n",
    "\n",
    "\n",
    "    def search(self, k, query):\n",
    "        #print(\"Cosine Similarity\")\n",
    "        tokens = text_to_words(query)\n",
    "        query_vector = []\n",
    "        for token in tokens:\n",
    "            if token in self.vocabulary_index:\n",
    "                query_vector.append(self.vocabulary_index[token])\n",
    "        out = []\n",
    "        for index, vec in enumerate(self.mat):\n",
    "            flag = True\n",
    "            for token_index in query_vector:\n",
    "                if vec[token_index] == 0:\n",
    "                    flag = False\n",
    "                    break\n",
    "            if flag:\n",
    "                out.append(index)\n",
    "            if len(out) == k:\n",
    "                break\n",
    "        print(out)\n",
    "        a = pd.DataFrame()\n",
    "        for i, index in enumerate(out):\n",
    "            a.loc[i, 'index'] = str(index)\n",
    "            a.loc[i, 'text'] = df.iloc[index]['Text']\n",
    "            a.loc[i, 'words'] = str(df.iloc[index]['Text_words'])\n",
    "\n",
    "        return a"
   ],
   "metadata": {
    "collapsed": false,
    "pycharm": {
     "name": "#%%\n"
    }
   }
  },
  {
   "cell_type": "code",
   "execution_count": 98,
   "outputs": [
    {
     "name": "stdout",
     "output_type": "stream",
     "text": [
      "[22, 93, 350, 1495, 1517, 1531, 1543, 1547, 1548, 1549]\n"
     ]
    },
    {
     "data": {
      "text/plain": "  index                                               text  \\\n0    22  Elon Musk give me  MONEY bitch And don't forge...   \n1    93  Elon Musk give me  $10,000 AND Putin a giant s...   \n2   350  Elon Musk give me  $99,000 AND Putin elegant a...   \n3  1495  what if Gerald Cotten is Elon Musk (:)\\n@elonm...   \n4  1517  Elon Musk's SpaceX has cleared a huge obstacle...   \n5  1531  How China could kill Space X.\\nSpace X's space...   \n6  1543  RT @weatherindia : Elon Musk's #SpaceX has rec...   \n7  1547  RT @TweakTown : Elon Musk says @SpaceX's Stars...   \n8  1548  RT @TweakTown : Elon Musk says @SpaceX's Stars...   \n9  1549  RT @TweakTown : Elon Musk says @SpaceX's Stars...   \n\n                                               words  \n0  ['elon', 'musk', 'give', 'money', 'bitch', 'fo...  \n1  ['elon', 'musk', 'give', 'putin', 'giant', 'sp...  \n2  ['elon', 'musk', 'give', 'putin', 'elegant', '...  \n3       ['gerald', 'cotten', 'elon', 'musk', 'musk']  \n4  ['elon', 'musk', 'spacex', 'cleared', 'huge', ...  \n5  ['china', 'could', 'kill', 'space', 'space', '...  \n6  ['rt', 'elon', 'musk', 'received', 'environmen...  \n7  ['rt', 'elon', 'musk', 'says', 'starship', 'ro...  \n8  ['rt', 'elon', 'musk', 'says', 'starship', 'ro...  \n9  ['rt', 'elon', 'musk', 'says', 'starship', 'ro...  ",
      "text/html": "<div>\n<style scoped>\n    .dataframe tbody tr th:only-of-type {\n        vertical-align: middle;\n    }\n\n    .dataframe tbody tr th {\n        vertical-align: top;\n    }\n\n    .dataframe thead th {\n        text-align: right;\n    }\n</style>\n<table border=\"1\" class=\"dataframe\">\n  <thead>\n    <tr style=\"text-align: right;\">\n      <th></th>\n      <th>index</th>\n      <th>text</th>\n      <th>words</th>\n    </tr>\n  </thead>\n  <tbody>\n    <tr>\n      <th>0</th>\n      <td>22</td>\n      <td>Elon Musk give me  MONEY bitch And don't forge...</td>\n      <td>['elon', 'musk', 'give', 'money', 'bitch', 'fo...</td>\n    </tr>\n    <tr>\n      <th>1</th>\n      <td>93</td>\n      <td>Elon Musk give me  $10,000 AND Putin a giant s...</td>\n      <td>['elon', 'musk', 'give', 'putin', 'giant', 'sp...</td>\n    </tr>\n    <tr>\n      <th>2</th>\n      <td>350</td>\n      <td>Elon Musk give me  $99,000 AND Putin elegant a...</td>\n      <td>['elon', 'musk', 'give', 'putin', 'elegant', '...</td>\n    </tr>\n    <tr>\n      <th>3</th>\n      <td>1495</td>\n      <td>what if Gerald Cotten is Elon Musk (:)\\n@elonm...</td>\n      <td>['gerald', 'cotten', 'elon', 'musk', 'musk']</td>\n    </tr>\n    <tr>\n      <th>4</th>\n      <td>1517</td>\n      <td>Elon Musk's SpaceX has cleared a huge obstacle...</td>\n      <td>['elon', 'musk', 'spacex', 'cleared', 'huge', ...</td>\n    </tr>\n    <tr>\n      <th>5</th>\n      <td>1531</td>\n      <td>How China could kill Space X.\\nSpace X's space...</td>\n      <td>['china', 'could', 'kill', 'space', 'space', '...</td>\n    </tr>\n    <tr>\n      <th>6</th>\n      <td>1543</td>\n      <td>RT @weatherindia : Elon Musk's #SpaceX has rec...</td>\n      <td>['rt', 'elon', 'musk', 'received', 'environmen...</td>\n    </tr>\n    <tr>\n      <th>7</th>\n      <td>1547</td>\n      <td>RT @TweakTown : Elon Musk says @SpaceX's Stars...</td>\n      <td>['rt', 'elon', 'musk', 'says', 'starship', 'ro...</td>\n    </tr>\n    <tr>\n      <th>8</th>\n      <td>1548</td>\n      <td>RT @TweakTown : Elon Musk says @SpaceX's Stars...</td>\n      <td>['rt', 'elon', 'musk', 'says', 'starship', 'ro...</td>\n    </tr>\n    <tr>\n      <th>9</th>\n      <td>1549</td>\n      <td>RT @TweakTown : Elon Musk says @SpaceX's Stars...</td>\n      <td>['rt', 'elon', 'musk', 'says', 'starship', 'ro...</td>\n    </tr>\n  </tbody>\n</table>\n</div>"
     },
     "execution_count": 98,
     "metadata": {},
     "output_type": "execute_result"
    }
   ],
   "source": [
    "model = BooleanSearch()\n",
    "model.search(10, \"Elon Musk\")"
   ],
   "metadata": {
    "collapsed": false,
    "pycharm": {
     "name": "#%%\n"
    }
   }
  },
  {
   "cell_type": "code",
   "execution_count": 90,
   "outputs": [],
   "source": [
    "import fasttext.util\n",
    "\n",
    "class FastText:\n",
    "    def __init__(self):\n",
    "        fasttext.util.download_model('en', if_exists='ignore')  # English\n",
    "        self.ft = fasttext.load_model(\"./cc.en.300.bin\")\n",
    "        self.text_vectors = []\n",
    "        for _, row in df.iterrows():\n",
    "            self.text_vectors.append(self.tokens_to_vec(row['Text_words']))\n",
    "\n",
    "    def tokens_to_vec(self, tokens):\n",
    "        cur_vectors = []\n",
    "        if len(tokens) == 0:\n",
    "            return np.zeros(self.ft.get_dimension())\n",
    "        for token in tokens:\n",
    "            cur_vectors.append(self.ft.get_word_vector(token))\n",
    "        return np.asarray(np.average(cur_vectors, axis=0, keepdims=True))[0]\n",
    "\n",
    "    @staticmethod\n",
    "    def cosine_sim(a, b):\n",
    "        norm_a = np.linalg.norm(a)\n",
    "        norm_b = np.linalg.norm(b)\n",
    "        if norm_a == 0 or norm_b == 0:\n",
    "            return 0\n",
    "        cos_sim = np.dot(a, b)/(norm_a*norm_b)\n",
    "        return cos_sim\n",
    "\n",
    "    def search(self, k, query):\n",
    "        tokens = text_to_words(query)\n",
    "        query_vector = self.tokens_to_vec(tokens)\n",
    "        d_cosines = []\n",
    "\n",
    "        for d in self.text_vectors:\n",
    "            d_cosines.append(self.cosine_sim(d, query_vector))\n",
    "\n",
    "        out = np.array(d_cosines).argsort()[-k:][::-1]\n",
    "        a = pd.DataFrame()\n",
    "        for i, index in enumerate(out):\n",
    "            a.loc[i, 'index'] = str(index)\n",
    "            a.loc[i, 'text'] = df.iloc[index]['Text']\n",
    "            a.loc[i, 'words'] = str(df.iloc[index]['Text_words'])\n",
    "            a.loc[i, 'Score'] = d_cosines[int(index)]\n",
    "        return a"
   ],
   "metadata": {
    "collapsed": false,
    "pycharm": {
     "name": "#%%\n"
    }
   }
  },
  {
   "cell_type": "code",
   "execution_count": 91,
   "outputs": [
    {
     "name": "stderr",
     "output_type": "stream",
     "text": [
      "Warning : `load_model` does not return WordVectorModel or SupervisedModel any more, but a `FastText` object which is very similar.\n"
     ]
    },
    {
     "data": {
      "text/plain": "   index                                               text  \\\n0   2223  Elon Musk replied to @SpaceX #SpaceX https://t...   \n1   2161  Elon Musk replied to @Erdayastronaut #SpaceX h...   \n2   2174  Elon Musk replied to @elonmusk #SpaceX https:/...   \n3   2181  Elon Musk replied to @SirineAti #SpaceX https:...   \n4   2206  Elon Musk replied to @DJSnM #SpaceX https://t....   \n5   1780  Elon Musk replied to @Rainmaker1973 #SpaceX ht...   \n6  14423  what if Gerald Cotten is Elon Musk (:)\\n@elonm...   \n7   1495  what if Gerald Cotten is Elon Musk (:)\\n@elonm...   \n8  14980  🔥👽 Episode 87 of Elon Musk Radio!\\n\\nTwitter: ...   \n9  14730  Could Elon Musk be a thief? Elon Musk why don'...   \n\n                                               words     Score  \n0                        ['elon', 'musk', 'replied']  0.978804  \n1                        ['elon', 'musk', 'replied']  0.978804  \n2                        ['elon', 'musk', 'replied']  0.978804  \n3                        ['elon', 'musk', 'replied']  0.978804  \n4                        ['elon', 'musk', 'replied']  0.978804  \n5                        ['elon', 'musk', 'replied']  0.978804  \n6       ['gerald', 'cotten', 'elon', 'musk', 'musk']  0.965241  \n7       ['gerald', 'cotten', 'elon', 'musk', 'musk']  0.965241  \n8  ['episode', 'elon', 'musk', 'radio', 'twitter'...  0.929618  \n9  ['could', 'elon', 'musk', 'thief', 'elon', 'mu...  0.916916  ",
      "text/html": "<div>\n<style scoped>\n    .dataframe tbody tr th:only-of-type {\n        vertical-align: middle;\n    }\n\n    .dataframe tbody tr th {\n        vertical-align: top;\n    }\n\n    .dataframe thead th {\n        text-align: right;\n    }\n</style>\n<table border=\"1\" class=\"dataframe\">\n  <thead>\n    <tr style=\"text-align: right;\">\n      <th></th>\n      <th>index</th>\n      <th>text</th>\n      <th>words</th>\n      <th>Score</th>\n    </tr>\n  </thead>\n  <tbody>\n    <tr>\n      <th>0</th>\n      <td>2223</td>\n      <td>Elon Musk replied to @SpaceX #SpaceX https://t...</td>\n      <td>['elon', 'musk', 'replied']</td>\n      <td>0.978804</td>\n    </tr>\n    <tr>\n      <th>1</th>\n      <td>2161</td>\n      <td>Elon Musk replied to @Erdayastronaut #SpaceX h...</td>\n      <td>['elon', 'musk', 'replied']</td>\n      <td>0.978804</td>\n    </tr>\n    <tr>\n      <th>2</th>\n      <td>2174</td>\n      <td>Elon Musk replied to @elonmusk #SpaceX https:/...</td>\n      <td>['elon', 'musk', 'replied']</td>\n      <td>0.978804</td>\n    </tr>\n    <tr>\n      <th>3</th>\n      <td>2181</td>\n      <td>Elon Musk replied to @SirineAti #SpaceX https:...</td>\n      <td>['elon', 'musk', 'replied']</td>\n      <td>0.978804</td>\n    </tr>\n    <tr>\n      <th>4</th>\n      <td>2206</td>\n      <td>Elon Musk replied to @DJSnM #SpaceX https://t....</td>\n      <td>['elon', 'musk', 'replied']</td>\n      <td>0.978804</td>\n    </tr>\n    <tr>\n      <th>5</th>\n      <td>1780</td>\n      <td>Elon Musk replied to @Rainmaker1973 #SpaceX ht...</td>\n      <td>['elon', 'musk', 'replied']</td>\n      <td>0.978804</td>\n    </tr>\n    <tr>\n      <th>6</th>\n      <td>14423</td>\n      <td>what if Gerald Cotten is Elon Musk (:)\\n@elonm...</td>\n      <td>['gerald', 'cotten', 'elon', 'musk', 'musk']</td>\n      <td>0.965241</td>\n    </tr>\n    <tr>\n      <th>7</th>\n      <td>1495</td>\n      <td>what if Gerald Cotten is Elon Musk (:)\\n@elonm...</td>\n      <td>['gerald', 'cotten', 'elon', 'musk', 'musk']</td>\n      <td>0.965241</td>\n    </tr>\n    <tr>\n      <th>8</th>\n      <td>14980</td>\n      <td>🔥👽 Episode 87 of Elon Musk Radio!\\n\\nTwitter: ...</td>\n      <td>['episode', 'elon', 'musk', 'radio', 'twitter'...</td>\n      <td>0.929618</td>\n    </tr>\n    <tr>\n      <th>9</th>\n      <td>14730</td>\n      <td>Could Elon Musk be a thief? Elon Musk why don'...</td>\n      <td>['could', 'elon', 'musk', 'thief', 'elon', 'mu...</td>\n      <td>0.916916</td>\n    </tr>\n  </tbody>\n</table>\n</div>"
     },
     "execution_count": 91,
     "metadata": {},
     "output_type": "execute_result"
    }
   ],
   "source": [
    "amo = FastText()\n",
    "amo.search(10, \"Elon musk\")"
   ],
   "metadata": {
    "collapsed": false,
    "pycharm": {
     "name": "#%%\n"
    }
   }
  },
  {
   "cell_type": "code",
   "execution_count": null,
   "outputs": [],
   "source": [],
   "metadata": {
    "collapsed": false,
    "pycharm": {
     "name": "#%%\n"
    }
   }
  }
 ],
 "metadata": {
  "kernelspec": {
   "display_name": "Python 3",
   "language": "python",
   "name": "python3"
  },
  "language_info": {
   "codemirror_mode": {
    "name": "ipython",
    "version": 3
   },
   "file_extension": ".py",
   "mimetype": "text/x-python",
   "name": "python",
   "nbconvert_exporter": "python",
   "pygments_lexer": "ipython3",
   "version": "3.7.4"
  }
 },
 "nbformat": 4,
 "nbformat_minor": 2
}